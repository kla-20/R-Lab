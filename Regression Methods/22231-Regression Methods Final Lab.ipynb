{
 "cells": [
  {
   "cell_type": "markdown",
   "id": "5a57d3ef",
   "metadata": {},
   "source": [
    "### Name: K Lalith Aditya\n",
    "\n",
    "### Regd No: 22231\n",
    "\n",
    "### R-Lab:  Models for Regression and Classification\n"
   ]
  },
  {
   "cell_type": "markdown",
   "id": "65428a0b",
   "metadata": {},
   "source": [
    "#### We will do linear regression for mtcars data"
   ]
  },
  {
   "cell_type": "code",
   "execution_count": 1,
   "id": "39865445",
   "metadata": {},
   "outputs": [
    {
     "data": {
      "text/html": [
       "<table class=\"dataframe\">\n",
       "<caption>A data.frame: 6 × 11</caption>\n",
       "<thead>\n",
       "\t<tr><th></th><th scope=col>mpg</th><th scope=col>cyl</th><th scope=col>disp</th><th scope=col>hp</th><th scope=col>drat</th><th scope=col>wt</th><th scope=col>qsec</th><th scope=col>vs</th><th scope=col>am</th><th scope=col>gear</th><th scope=col>carb</th></tr>\n",
       "\t<tr><th></th><th scope=col>&lt;dbl&gt;</th><th scope=col>&lt;dbl&gt;</th><th scope=col>&lt;dbl&gt;</th><th scope=col>&lt;dbl&gt;</th><th scope=col>&lt;dbl&gt;</th><th scope=col>&lt;dbl&gt;</th><th scope=col>&lt;dbl&gt;</th><th scope=col>&lt;dbl&gt;</th><th scope=col>&lt;dbl&gt;</th><th scope=col>&lt;dbl&gt;</th><th scope=col>&lt;dbl&gt;</th></tr>\n",
       "</thead>\n",
       "<tbody>\n",
       "\t<tr><th scope=row>Mazda RX4</th><td>21.0</td><td>6</td><td>160</td><td>110</td><td>3.90</td><td>2.620</td><td>16.46</td><td>0</td><td>1</td><td>4</td><td>4</td></tr>\n",
       "\t<tr><th scope=row>Mazda RX4 Wag</th><td>21.0</td><td>6</td><td>160</td><td>110</td><td>3.90</td><td>2.875</td><td>17.02</td><td>0</td><td>1</td><td>4</td><td>4</td></tr>\n",
       "\t<tr><th scope=row>Datsun 710</th><td>22.8</td><td>4</td><td>108</td><td> 93</td><td>3.85</td><td>2.320</td><td>18.61</td><td>1</td><td>1</td><td>4</td><td>1</td></tr>\n",
       "\t<tr><th scope=row>Hornet 4 Drive</th><td>21.4</td><td>6</td><td>258</td><td>110</td><td>3.08</td><td>3.215</td><td>19.44</td><td>1</td><td>0</td><td>3</td><td>1</td></tr>\n",
       "\t<tr><th scope=row>Hornet Sportabout</th><td>18.7</td><td>8</td><td>360</td><td>175</td><td>3.15</td><td>3.440</td><td>17.02</td><td>0</td><td>0</td><td>3</td><td>2</td></tr>\n",
       "\t<tr><th scope=row>Valiant</th><td>18.1</td><td>6</td><td>225</td><td>105</td><td>2.76</td><td>3.460</td><td>20.22</td><td>1</td><td>0</td><td>3</td><td>1</td></tr>\n",
       "</tbody>\n",
       "</table>\n"
      ],
      "text/latex": [
       "A data.frame: 6 × 11\n",
       "\\begin{tabular}{r|lllllllllll}\n",
       "  & mpg & cyl & disp & hp & drat & wt & qsec & vs & am & gear & carb\\\\\n",
       "  & <dbl> & <dbl> & <dbl> & <dbl> & <dbl> & <dbl> & <dbl> & <dbl> & <dbl> & <dbl> & <dbl>\\\\\n",
       "\\hline\n",
       "\tMazda RX4 & 21.0 & 6 & 160 & 110 & 3.90 & 2.620 & 16.46 & 0 & 1 & 4 & 4\\\\\n",
       "\tMazda RX4 Wag & 21.0 & 6 & 160 & 110 & 3.90 & 2.875 & 17.02 & 0 & 1 & 4 & 4\\\\\n",
       "\tDatsun 710 & 22.8 & 4 & 108 &  93 & 3.85 & 2.320 & 18.61 & 1 & 1 & 4 & 1\\\\\n",
       "\tHornet 4 Drive & 21.4 & 6 & 258 & 110 & 3.08 & 3.215 & 19.44 & 1 & 0 & 3 & 1\\\\\n",
       "\tHornet Sportabout & 18.7 & 8 & 360 & 175 & 3.15 & 3.440 & 17.02 & 0 & 0 & 3 & 2\\\\\n",
       "\tValiant & 18.1 & 6 & 225 & 105 & 2.76 & 3.460 & 20.22 & 1 & 0 & 3 & 1\\\\\n",
       "\\end{tabular}\n"
      ],
      "text/markdown": [
       "\n",
       "A data.frame: 6 × 11\n",
       "\n",
       "| <!--/--> | mpg &lt;dbl&gt; | cyl &lt;dbl&gt; | disp &lt;dbl&gt; | hp &lt;dbl&gt; | drat &lt;dbl&gt; | wt &lt;dbl&gt; | qsec &lt;dbl&gt; | vs &lt;dbl&gt; | am &lt;dbl&gt; | gear &lt;dbl&gt; | carb &lt;dbl&gt; |\n",
       "|---|---|---|---|---|---|---|---|---|---|---|---|\n",
       "| Mazda RX4 | 21.0 | 6 | 160 | 110 | 3.90 | 2.620 | 16.46 | 0 | 1 | 4 | 4 |\n",
       "| Mazda RX4 Wag | 21.0 | 6 | 160 | 110 | 3.90 | 2.875 | 17.02 | 0 | 1 | 4 | 4 |\n",
       "| Datsun 710 | 22.8 | 4 | 108 |  93 | 3.85 | 2.320 | 18.61 | 1 | 1 | 4 | 1 |\n",
       "| Hornet 4 Drive | 21.4 | 6 | 258 | 110 | 3.08 | 3.215 | 19.44 | 1 | 0 | 3 | 1 |\n",
       "| Hornet Sportabout | 18.7 | 8 | 360 | 175 | 3.15 | 3.440 | 17.02 | 0 | 0 | 3 | 2 |\n",
       "| Valiant | 18.1 | 6 | 225 | 105 | 2.76 | 3.460 | 20.22 | 1 | 0 | 3 | 1 |\n",
       "\n"
      ],
      "text/plain": [
       "                  mpg  cyl disp hp  drat wt    qsec  vs am gear carb\n",
       "Mazda RX4         21.0 6   160  110 3.90 2.620 16.46 0  1  4    4   \n",
       "Mazda RX4 Wag     21.0 6   160  110 3.90 2.875 17.02 0  1  4    4   \n",
       "Datsun 710        22.8 4   108   93 3.85 2.320 18.61 1  1  4    1   \n",
       "Hornet 4 Drive    21.4 6   258  110 3.08 3.215 19.44 1  0  3    1   \n",
       "Hornet Sportabout 18.7 8   360  175 3.15 3.440 17.02 0  0  3    2   \n",
       "Valiant           18.1 6   225  105 2.76 3.460 20.22 1  0  3    1   "
      ]
     },
     "metadata": {},
     "output_type": "display_data"
    }
   ],
   "source": [
    "data(mtcars)\n",
    "head(mtcars)"
   ]
  },
  {
   "cell_type": "markdown",
   "id": "2634aba4",
   "metadata": {},
   "source": [
    "### Simple Linear Regression"
   ]
  },
  {
   "cell_type": "markdown",
   "id": "899d53a9",
   "metadata": {},
   "source": [
    "#### Taking mpg is dependent variable, cyl is independent variable"
   ]
  },
  {
   "cell_type": "code",
   "execution_count": 2,
   "id": "410c71bd",
   "metadata": {},
   "outputs": [
    {
     "data": {
      "text/plain": [
       "\n",
       "Call:\n",
       "lm(formula = mpg ~ cyl, data = mtcars)\n",
       "\n",
       "Residuals:\n",
       "    Min      1Q  Median      3Q     Max \n",
       "-4.9814 -2.1185  0.2217  1.0717  7.5186 \n",
       "\n",
       "Coefficients:\n",
       "            Estimate Std. Error t value Pr(>|t|)    \n",
       "(Intercept)  37.8846     2.0738   18.27  < 2e-16 ***\n",
       "cyl          -2.8758     0.3224   -8.92 6.11e-10 ***\n",
       "---\n",
       "Signif. codes:  0 '***' 0.001 '**' 0.01 '*' 0.05 '.' 0.1 ' ' 1\n",
       "\n",
       "Residual standard error: 3.206 on 30 degrees of freedom\n",
       "Multiple R-squared:  0.7262,\tAdjusted R-squared:  0.7171 \n",
       "F-statistic: 79.56 on 1 and 30 DF,  p-value: 6.113e-10\n"
      ]
     },
     "metadata": {},
     "output_type": "display_data"
    }
   ],
   "source": [
    "model1 <- lm(mpg ~ cyl, data = mtcars)\n",
    "summary(model1)\n"
   ]
  },
  {
   "cell_type": "code",
   "execution_count": 3,
   "id": "1ea8505e",
   "metadata": {},
   "outputs": [
    {
     "name": "stdout",
     "output_type": "stream",
     "text": [
      "Enter the number of cylinders for the car: 6\n",
      "The predicted mpg of the car with cylinders 6 is: 20.63 miles per gallon\n"
     ]
    }
   ],
   "source": [
    "# Prompt the user to enter the number of cylinders of the car\n",
    "ncyl <- readline(prompt = \"Enter the number of cylinders for the car: \")\n",
    "\n",
    "# Convert the input to numeric\n",
    "ncyl <- as.numeric(ncyl)\n",
    "\n",
    "# Predict the mpg of the car based on the no of cylinders using the linear regression model\n",
    "mpg_predicted <- predict(model1, data.frame(cyl = ncyl))\n",
    "\n",
    "# Print the predicted mpg\n",
    "cat(\"The predicted mpg of the car with cylinders\", ncyl, \"is:\", round(mpg_predicted, 2), \"miles per gallon\\n\")\n"
   ]
  },
  {
   "cell_type": "markdown",
   "id": "dd031658",
   "metadata": {},
   "source": [
    "#### Visualization"
   ]
  },
  {
   "cell_type": "code",
   "execution_count": 4,
   "id": "0880fc75",
   "metadata": {},
   "outputs": [
    {
     "name": "stderr",
     "output_type": "stream",
     "text": [
      "Warning message in annotate(\"point\", x = ncyl, y = mpg_predicted, label = paste(\"Cyl:\", :\n",
      "\"\u001b[1m\u001b[22mIgnoring unknown parameters: `label`\"\n",
      "\u001b[1m\u001b[22m`geom_smooth()` using formula = 'y ~ x'\n"
     ]
    },
    {
     "data": {
      "image/png": "[encoded data removed]",
      "text/plain": [
       "plot without title"
      ]
     },
     "metadata": {
      "image/png": {
       "height": 420,
       "width": 420
      }
     },
     "output_type": "display_data"
    }
   ],
   "source": [
    "library(ggplot2)\n",
    "\n",
    "# Create a scatter plot of mpg vs. cyl\n",
    "p <- ggplot(mtcars, aes(x = cyl, y = mpg)) + \n",
    "  geom_point()\n",
    "\n",
    "# Add the regression line to the plot\n",
    "p <- p + geom_smooth(method = \"lm\", se = TRUE)\n",
    "\n",
    "p <- p + annotate(\"point\", x = ncyl, y = mpg_predicted, label = paste(\"Cyl:\", ncyl),color='red',size=4)\n",
    "\n",
    "# Display the plot\n",
    "print(p)\n"
   ]
  },
  {
   "cell_type": "markdown",
   "id": "d1f29be6",
   "metadata": {},
   "source": [
    "#### Taking mpg is dependent variable, hp is independent variable"
   ]
  },
  {
   "cell_type": "code",
   "execution_count": 5,
   "id": "f690ea81",
   "metadata": {},
   "outputs": [
    {
     "data": {
      "text/plain": [
       "\n",
       "Call:\n",
       "lm(formula = mpg ~ hp, data = mtcars)\n",
       "\n",
       "Residuals:\n",
       "    Min      1Q  Median      3Q     Max \n",
       "-5.7121 -2.1122 -0.8854  1.5819  8.2360 \n",
       "\n",
       "Coefficients:\n",
       "            Estimate Std. Error t value Pr(>|t|)    \n",
       "(Intercept) 30.09886    1.63392  18.421  < 2e-16 ***\n",
       "hp          -0.06823    0.01012  -6.742 1.79e-07 ***\n",
       "---\n",
       "Signif. codes:  0 '***' 0.001 '**' 0.01 '*' 0.05 '.' 0.1 ' ' 1\n",
       "\n",
       "Residual standard error: 3.863 on 30 degrees of freedom\n",
       "Multiple R-squared:  0.6024,\tAdjusted R-squared:  0.5892 \n",
       "F-statistic: 45.46 on 1 and 30 DF,  p-value: 1.788e-07\n"
      ]
     },
     "metadata": {},
     "output_type": "display_data"
    }
   ],
   "source": [
    "model2 <- lm(mpg ~ hp, data = mtcars)\n",
    "summary(model2)\n"
   ]
  },
  {
   "cell_type": "code",
   "execution_count": 6,
   "id": "201573e5",
   "metadata": {},
   "outputs": [
    {
     "name": "stdout",
     "output_type": "stream",
     "text": [
      "Enter the horse power for the car: 110\n",
      "The predicted mpg of the car with horsepower 110 is: 22.59 miles per gallon\n"
     ]
    }
   ],
   "source": [
    "# Prompt the user to enter the horse power of the car\n",
    "nhp <- readline(prompt = \"Enter the horse power for the car: \")\n",
    "\n",
    "# Convert the input to numeric\n",
    "nhp <- as.numeric(nhp)\n",
    "\n",
    "# Predict the mpg of the car based on the horse power using the linear regression model\n",
    "mpg_predicted <- predict(model2, data.frame(hp = nhp))\n",
    "\n",
    "# Print the predicted mpg\n",
    "cat(\"The predicted mpg of the car with horsepower\", nhp, \"is:\", round(mpg_predicted, 2), \"miles per gallon\\n\")\n"
   ]
  },
  {
   "cell_type": "markdown",
   "id": "ce606dc0",
   "metadata": {},
   "source": [
    "#### visualization\n"
   ]
  },
  {
   "cell_type": "code",
   "execution_count": 7,
   "id": "e09b771a",
   "metadata": {},
   "outputs": [
    {
     "name": "stderr",
     "output_type": "stream",
     "text": [
      "Warning message in annotate(\"point\", x = nhp, y = mpg_predicted, label = paste(\"hp:\", :\n",
      "\"\u001b[1m\u001b[22mIgnoring unknown parameters: `label`\"\n",
      "\u001b[1m\u001b[22m`geom_smooth()` using formula = 'y ~ x'\n"
     ]
    },
    {
     "data": {
      "image/png": "[encoded data removed]",
      "text/plain": [
       "plot without title"
      ]
     },
     "metadata": {
      "image/png": {
       "height": 420,
       "width": 420
      }
     },
     "output_type": "display_data"
    }
   ],
   "source": [
    "# Create a scatter plot of mpg vs. hp\n",
    "p <- ggplot(mtcars, aes(x = hp, y = mpg)) + \n",
    "  geom_point()\n",
    "\n",
    "# Add the regression line to the plot\n",
    "p <- p + geom_smooth(method = \"lm\", se = TRUE,color='green')\n",
    "\n",
    "p <- p + annotate(\"point\", x = nhp, y = mpg_predicted, label = paste(\"hp:\", nhp),color='blue',size=4)\n",
    "\n",
    "# Display the plot\n",
    "print(p)\n"
   ]
  },
  {
   "cell_type": "code",
   "execution_count": 8,
   "id": "379029bb",
   "metadata": {},
   "outputs": [
    {
     "data": {
      "text/html": [
       "<table class=\"dataframe\">\n",
       "<caption>A data.frame: 6 × 11</caption>\n",
       "<thead>\n",
       "\t<tr><th></th><th scope=col>mpg</th><th scope=col>cyl</th><th scope=col>disp</th><th scope=col>hp</th><th scope=col>drat</th><th scope=col>wt</th><th scope=col>qsec</th><th scope=col>vs</th><th scope=col>am</th><th scope=col>gear</th><th scope=col>carb</th></tr>\n",
       "\t<tr><th></th><th scope=col>&lt;dbl&gt;</th><th scope=col>&lt;dbl&gt;</th><th scope=col>&lt;dbl&gt;</th><th scope=col>&lt;dbl&gt;</th><th scope=col>&lt;dbl&gt;</th><th scope=col>&lt;dbl&gt;</th><th scope=col>&lt;dbl&gt;</th><th scope=col>&lt;dbl&gt;</th><th scope=col>&lt;dbl&gt;</th><th scope=col>&lt;dbl&gt;</th><th scope=col>&lt;dbl&gt;</th></tr>\n",
       "</thead>\n",
       "<tbody>\n",
       "\t<tr><th scope=row>Mazda RX4</th><td>21.0</td><td>6</td><td>160</td><td>110</td><td>3.90</td><td>2.620</td><td>16.46</td><td>0</td><td>1</td><td>4</td><td>4</td></tr>\n",
       "\t<tr><th scope=row>Mazda RX4 Wag</th><td>21.0</td><td>6</td><td>160</td><td>110</td><td>3.90</td><td>2.875</td><td>17.02</td><td>0</td><td>1</td><td>4</td><td>4</td></tr>\n",
       "\t<tr><th scope=row>Datsun 710</th><td>22.8</td><td>4</td><td>108</td><td> 93</td><td>3.85</td><td>2.320</td><td>18.61</td><td>1</td><td>1</td><td>4</td><td>1</td></tr>\n",
       "\t<tr><th scope=row>Hornet 4 Drive</th><td>21.4</td><td>6</td><td>258</td><td>110</td><td>3.08</td><td>3.215</td><td>19.44</td><td>1</td><td>0</td><td>3</td><td>1</td></tr>\n",
       "\t<tr><th scope=row>Hornet Sportabout</th><td>18.7</td><td>8</td><td>360</td><td>175</td><td>3.15</td><td>3.440</td><td>17.02</td><td>0</td><td>0</td><td>3</td><td>2</td></tr>\n",
       "\t<tr><th scope=row>Valiant</th><td>18.1</td><td>6</td><td>225</td><td>105</td><td>2.76</td><td>3.460</td><td>20.22</td><td>1</td><td>0</td><td>3</td><td>1</td></tr>\n",
       "</tbody>\n",
       "</table>\n"
      ],
      "text/latex": [
       "A data.frame: 6 × 11\n",
       "\\begin{tabular}{r|lllllllllll}\n",
       "  & mpg & cyl & disp & hp & drat & wt & qsec & vs & am & gear & carb\\\\\n",
       "  & <dbl> & <dbl> & <dbl> & <dbl> & <dbl> & <dbl> & <dbl> & <dbl> & <dbl> & <dbl> & <dbl>\\\\\n",
       "\\hline\n",
       "\tMazda RX4 & 21.0 & 6 & 160 & 110 & 3.90 & 2.620 & 16.46 & 0 & 1 & 4 & 4\\\\\n",
       "\tMazda RX4 Wag & 21.0 & 6 & 160 & 110 & 3.90 & 2.875 & 17.02 & 0 & 1 & 4 & 4\\\\\n",
       "\tDatsun 710 & 22.8 & 4 & 108 &  93 & 3.85 & 2.320 & 18.61 & 1 & 1 & 4 & 1\\\\\n",
       "\tHornet 4 Drive & 21.4 & 6 & 258 & 110 & 3.08 & 3.215 & 19.44 & 1 & 0 & 3 & 1\\\\\n",
       "\tHornet Sportabout & 18.7 & 8 & 360 & 175 & 3.15 & 3.440 & 17.02 & 0 & 0 & 3 & 2\\\\\n",
       "\tValiant & 18.1 & 6 & 225 & 105 & 2.76 & 3.460 & 20.22 & 1 & 0 & 3 & 1\\\\\n",
       "\\end{tabular}\n"
      ],
      "text/markdown": [
       "\n",
       "A data.frame: 6 × 11\n",
       "\n",
       "| <!--/--> | mpg &lt;dbl&gt; | cyl &lt;dbl&gt; | disp &lt;dbl&gt; | hp &lt;dbl&gt; | drat &lt;dbl&gt; | wt &lt;dbl&gt; | qsec &lt;dbl&gt; | vs &lt;dbl&gt; | am &lt;dbl&gt; | gear &lt;dbl&gt; | carb &lt;dbl&gt; |\n",
       "|---|---|---|---|---|---|---|---|---|---|---|---|\n",
       "| Mazda RX4 | 21.0 | 6 | 160 | 110 | 3.90 | 2.620 | 16.46 | 0 | 1 | 4 | 4 |\n",
       "| Mazda RX4 Wag | 21.0 | 6 | 160 | 110 | 3.90 | 2.875 | 17.02 | 0 | 1 | 4 | 4 |\n",
       "| Datsun 710 | 22.8 | 4 | 108 |  93 | 3.85 | 2.320 | 18.61 | 1 | 1 | 4 | 1 |\n",
       "| Hornet 4 Drive | 21.4 | 6 | 258 | 110 | 3.08 | 3.215 | 19.44 | 1 | 0 | 3 | 1 |\n",
       "| Hornet Sportabout | 18.7 | 8 | 360 | 175 | 3.15 | 3.440 | 17.02 | 0 | 0 | 3 | 2 |\n",
       "| Valiant | 18.1 | 6 | 225 | 105 | 2.76 | 3.460 | 20.22 | 1 | 0 | 3 | 1 |\n",
       "\n"
      ],
      "text/plain": [
       "                  mpg  cyl disp hp  drat wt    qsec  vs am gear carb\n",
       "Mazda RX4         21.0 6   160  110 3.90 2.620 16.46 0  1  4    4   \n",
       "Mazda RX4 Wag     21.0 6   160  110 3.90 2.875 17.02 0  1  4    4   \n",
       "Datsun 710        22.8 4   108   93 3.85 2.320 18.61 1  1  4    1   \n",
       "Hornet 4 Drive    21.4 6   258  110 3.08 3.215 19.44 1  0  3    1   \n",
       "Hornet Sportabout 18.7 8   360  175 3.15 3.440 17.02 0  0  3    2   \n",
       "Valiant           18.1 6   225  105 2.76 3.460 20.22 1  0  3    1   "
      ]
     },
     "metadata": {},
     "output_type": "display_data"
    }
   ],
   "source": [
    "head(mtcars)"
   ]
  },
  {
   "cell_type": "markdown",
   "id": "fb163033",
   "metadata": {},
   "source": [
    "####  Taking disp is dependent variable, mpg is independent variable"
   ]
  },
  {
   "cell_type": "code",
   "execution_count": 9,
   "id": "4c90c42e",
   "metadata": {},
   "outputs": [
    {
     "data": {
      "text/plain": [
       "\n",
       "Call:\n",
       "lm(formula = disp ~ mpg, data = mtcars)\n",
       "\n",
       "Residuals:\n",
       "    Min      1Q  Median      3Q     Max \n",
       "-103.05  -45.74   -8.17   46.65  153.75 \n",
       "\n",
       "Coefficients:\n",
       "            Estimate Std. Error t value Pr(>|t|)    \n",
       "(Intercept)  580.884     41.740  13.917 1.26e-14 ***\n",
       "mpg          -17.429      1.993  -8.747 9.38e-10 ***\n",
       "---\n",
       "Signif. codes:  0 '***' 0.001 '**' 0.01 '*' 0.05 '.' 0.1 ' ' 1\n",
       "\n",
       "Residual standard error: 66.86 on 30 degrees of freedom\n",
       "Multiple R-squared:  0.7183,\tAdjusted R-squared:  0.709 \n",
       "F-statistic: 76.51 on 1 and 30 DF,  p-value: 9.38e-10\n"
      ]
     },
     "metadata": {},
     "output_type": "display_data"
    }
   ],
   "source": [
    "model3 <- lm(disp ~ mpg, data = mtcars)\n",
    "summary(model3)\n"
   ]
  },
  {
   "cell_type": "code",
   "execution_count": 10,
   "id": "c7467ca2",
   "metadata": {},
   "outputs": [
    {
     "name": "stdout",
     "output_type": "stream",
     "text": [
      "Enter the mileage of the car: 23\n",
      "The predicted disp of the car with mileage 23 is: 180.01 \n"
     ]
    }
   ],
   "source": [
    "# Prompt the user to enter the mileage of the car\n",
    "nmg <- readline(prompt = \"Enter the mileage of the car: \")\n",
    "\n",
    "# Convert the input to numeric\n",
    "nmg <- as.numeric(nmg)\n",
    "\n",
    "# Predict the disp of the car based on the mileage using the linear regression model\n",
    "disp_predicted <- predict(model3, data.frame(mpg = nmg))\n",
    "\n",
    "# Print the predicted mpg\n",
    "cat(\"The predicted disp of the car with mileage\", nmg, \"is:\", round(disp_predicted, 2), \"\\n\")\n"
   ]
  },
  {
   "cell_type": "markdown",
   "id": "21be771e",
   "metadata": {},
   "source": [
    "#### Visualization"
   ]
  },
  {
   "cell_type": "code",
   "execution_count": 11,
   "id": "89a06a66",
   "metadata": {},
   "outputs": [
    {
     "name": "stderr",
     "output_type": "stream",
     "text": [
      "\u001b[1m\u001b[22m`geom_smooth()` using formula = 'y ~ x'\n"
     ]
    },
    {
     "data": {
      "image/png": "[encoded data removed]",
      "text/plain": [
       "plot without title"
      ]
     },
     "metadata": {
      "image/png": {
       "height": 420,
       "width": 420
      }
     },
     "output_type": "display_data"
    }
   ],
   "source": [
    "# Create a scatter plot of disp vs. mpg\n",
    "p <- ggplot(mtcars, aes(x = mpg, y = disp)) + \n",
    "  geom_point()\n",
    "\n",
    "# Add the regression line to the plot\n",
    "p <- p + geom_smooth(method = \"lm\", se = FALSE,color='purple')\n",
    "\n",
    "p <- p + annotate(\"point\", x = nmg, y = disp_predicted,color='red',size=4)\n",
    "\n",
    "# Display the plot\n",
    "print(p)\n"
   ]
  },
  {
   "cell_type": "markdown",
   "id": "33078e00",
   "metadata": {},
   "source": [
    "### Multiple Linear Regression\n"
   ]
  },
  {
   "cell_type": "code",
   "execution_count": 12,
   "id": "e8115b06",
   "metadata": {},
   "outputs": [
    {
     "data": {
      "text/html": [
       "<table class=\"dataframe\">\n",
       "<caption>A data.frame: 6 × 11</caption>\n",
       "<thead>\n",
       "\t<tr><th></th><th scope=col>mpg</th><th scope=col>cyl</th><th scope=col>disp</th><th scope=col>hp</th><th scope=col>drat</th><th scope=col>wt</th><th scope=col>qsec</th><th scope=col>vs</th><th scope=col>am</th><th scope=col>gear</th><th scope=col>carb</th></tr>\n",
       "\t<tr><th></th><th scope=col>&lt;dbl&gt;</th><th scope=col>&lt;dbl&gt;</th><th scope=col>&lt;dbl&gt;</th><th scope=col>&lt;dbl&gt;</th><th scope=col>&lt;dbl&gt;</th><th scope=col>&lt;dbl&gt;</th><th scope=col>&lt;dbl&gt;</th><th scope=col>&lt;dbl&gt;</th><th scope=col>&lt;dbl&gt;</th><th scope=col>&lt;dbl&gt;</th><th scope=col>&lt;dbl&gt;</th></tr>\n",
       "</thead>\n",
       "<tbody>\n",
       "\t<tr><th scope=row>Mazda RX4</th><td>21.0</td><td>6</td><td>160</td><td>110</td><td>3.90</td><td>2.620</td><td>16.46</td><td>0</td><td>1</td><td>4</td><td>4</td></tr>\n",
       "\t<tr><th scope=row>Mazda RX4 Wag</th><td>21.0</td><td>6</td><td>160</td><td>110</td><td>3.90</td><td>2.875</td><td>17.02</td><td>0</td><td>1</td><td>4</td><td>4</td></tr>\n",
       "\t<tr><th scope=row>Datsun 710</th><td>22.8</td><td>4</td><td>108</td><td> 93</td><td>3.85</td><td>2.320</td><td>18.61</td><td>1</td><td>1</td><td>4</td><td>1</td></tr>\n",
       "\t<tr><th scope=row>Hornet 4 Drive</th><td>21.4</td><td>6</td><td>258</td><td>110</td><td>3.08</td><td>3.215</td><td>19.44</td><td>1</td><td>0</td><td>3</td><td>1</td></tr>\n",
       "\t<tr><th scope=row>Hornet Sportabout</th><td>18.7</td><td>8</td><td>360</td><td>175</td><td>3.15</td><td>3.440</td><td>17.02</td><td>0</td><td>0</td><td>3</td><td>2</td></tr>\n",
       "\t<tr><th scope=row>Valiant</th><td>18.1</td><td>6</td><td>225</td><td>105</td><td>2.76</td><td>3.460</td><td>20.22</td><td>1</td><td>0</td><td>3</td><td>1</td></tr>\n",
       "</tbody>\n",
       "</table>\n"
      ],
      "text/latex": [
       "A data.frame: 6 × 11\n",
       "\\begin{tabular}{r|lllllllllll}\n",
       "  & mpg & cyl & disp & hp & drat & wt & qsec & vs & am & gear & carb\\\\\n",
       "  & <dbl> & <dbl> & <dbl> & <dbl> & <dbl> & <dbl> & <dbl> & <dbl> & <dbl> & <dbl> & <dbl>\\\\\n",
       "\\hline\n",
       "\tMazda RX4 & 21.0 & 6 & 160 & 110 & 3.90 & 2.620 & 16.46 & 0 & 1 & 4 & 4\\\\\n",
       "\tMazda RX4 Wag & 21.0 & 6 & 160 & 110 & 3.90 & 2.875 & 17.02 & 0 & 1 & 4 & 4\\\\\n",
       "\tDatsun 710 & 22.8 & 4 & 108 &  93 & 3.85 & 2.320 & 18.61 & 1 & 1 & 4 & 1\\\\\n",
       "\tHornet 4 Drive & 21.4 & 6 & 258 & 110 & 3.08 & 3.215 & 19.44 & 1 & 0 & 3 & 1\\\\\n",
       "\tHornet Sportabout & 18.7 & 8 & 360 & 175 & 3.15 & 3.440 & 17.02 & 0 & 0 & 3 & 2\\\\\n",
       "\tValiant & 18.1 & 6 & 225 & 105 & 2.76 & 3.460 & 20.22 & 1 & 0 & 3 & 1\\\\\n",
       "\\end{tabular}\n"
      ],
      "text/markdown": [
       "\n",
       "A data.frame: 6 × 11\n",
       "\n",
       "| <!--/--> | mpg &lt;dbl&gt; | cyl &lt;dbl&gt; | disp &lt;dbl&gt; | hp &lt;dbl&gt; | drat &lt;dbl&gt; | wt &lt;dbl&gt; | qsec &lt;dbl&gt; | vs &lt;dbl&gt; | am &lt;dbl&gt; | gear &lt;dbl&gt; | carb &lt;dbl&gt; |\n",
       "|---|---|---|---|---|---|---|---|---|---|---|---|\n",
       "| Mazda RX4 | 21.0 | 6 | 160 | 110 | 3.90 | 2.620 | 16.46 | 0 | 1 | 4 | 4 |\n",
       "| Mazda RX4 Wag | 21.0 | 6 | 160 | 110 | 3.90 | 2.875 | 17.02 | 0 | 1 | 4 | 4 |\n",
       "| Datsun 710 | 22.8 | 4 | 108 |  93 | 3.85 | 2.320 | 18.61 | 1 | 1 | 4 | 1 |\n",
       "| Hornet 4 Drive | 21.4 | 6 | 258 | 110 | 3.08 | 3.215 | 19.44 | 1 | 0 | 3 | 1 |\n",
       "| Hornet Sportabout | 18.7 | 8 | 360 | 175 | 3.15 | 3.440 | 17.02 | 0 | 0 | 3 | 2 |\n",
       "| Valiant | 18.1 | 6 | 225 | 105 | 2.76 | 3.460 | 20.22 | 1 | 0 | 3 | 1 |\n",
       "\n"
      ],
      "text/plain": [
       "                  mpg  cyl disp hp  drat wt    qsec  vs am gear carb\n",
       "Mazda RX4         21.0 6   160  110 3.90 2.620 16.46 0  1  4    4   \n",
       "Mazda RX4 Wag     21.0 6   160  110 3.90 2.875 17.02 0  1  4    4   \n",
       "Datsun 710        22.8 4   108   93 3.85 2.320 18.61 1  1  4    1   \n",
       "Hornet 4 Drive    21.4 6   258  110 3.08 3.215 19.44 1  0  3    1   \n",
       "Hornet Sportabout 18.7 8   360  175 3.15 3.440 17.02 0  0  3    2   \n",
       "Valiant           18.1 6   225  105 2.76 3.460 20.22 1  0  3    1   "
      ]
     },
     "metadata": {},
     "output_type": "display_data"
    }
   ],
   "source": [
    "head(mtcars)"
   ]
  },
  {
   "cell_type": "code",
   "execution_count": 13,
   "id": "0b5b974d",
   "metadata": {},
   "outputs": [
    {
     "data": {
      "text/plain": [
       "\n",
       "Call:\n",
       "lm(formula = mpg ~ disp + hp + wt, data = mtcars)\n",
       "\n",
       "Residuals:\n",
       "   Min     1Q Median     3Q    Max \n",
       "-3.891 -1.640 -0.172  1.061  5.861 \n",
       "\n",
       "Coefficients:\n",
       "             Estimate Std. Error t value Pr(>|t|)    \n",
       "(Intercept) 37.105505   2.110815  17.579  < 2e-16 ***\n",
       "disp        -0.000937   0.010350  -0.091  0.92851    \n",
       "hp          -0.031157   0.011436  -2.724  0.01097 *  \n",
       "wt          -3.800891   1.066191  -3.565  0.00133 ** \n",
       "---\n",
       "Signif. codes:  0 '***' 0.001 '**' 0.01 '*' 0.05 '.' 0.1 ' ' 1\n",
       "\n",
       "Residual standard error: 2.639 on 28 degrees of freedom\n",
       "Multiple R-squared:  0.8268,\tAdjusted R-squared:  0.8083 \n",
       "F-statistic: 44.57 on 3 and 28 DF,  p-value: 8.65e-11\n"
      ]
     },
     "metadata": {},
     "output_type": "display_data"
    }
   ],
   "source": [
    "# Fit a multiple linear regression model\n",
    "model4 <- lm(mpg ~ disp + hp + wt, data = mtcars)\n",
    "\n",
    "# Summarize the model\n",
    "summary(model4)\n"
   ]
  },
  {
   "cell_type": "code",
   "execution_count": 14,
   "id": "35a6c6f4",
   "metadata": {},
   "outputs": [
    {
     "name": "stdout",
     "output_type": "stream",
     "text": [
      "Enter the displacement of the car: 110\n",
      "Enter the horse power of the car: 110\n",
      "Enter the weight of the car (in tonns): 6\n",
      "The predicted disp of the car with given details is: 10.77 \n"
     ]
    }
   ],
   "source": [
    "# Prompt the user to enter the displacement of the car\n",
    "ndisp <- readline(prompt = \"Enter the displacement of the car: \")\n",
    "\n",
    "# Prompt the user to enter the horse power of the car\n",
    "nhp <- readline(prompt = \"Enter the horse power of the car: \")\n",
    "\n",
    "# Prompt the user to enter the weight of the car\n",
    "nw <- readline(prompt = \"Enter the weight of the car (in tonns): \")\n",
    "\n",
    "# Convert the input to numeric\n",
    "ndisp <- as.numeric(ndisp)\n",
    "nhp <- as.numeric(nhp)\n",
    "nw <- as.numeric(nw)\n",
    "\n",
    "# Predict the disp of the car based on the mileage using the linear regression model\n",
    "disp_predicted <- predict(model4, data.frame(disp = ndisp, hp = nhp, wt = nw))\n",
    "\n",
    "# Print the predicted disp\n",
    "cat(\"The predicted disp of the car with given details is:\", round(disp_predicted, 2), \"\\n\")\n"
   ]
  },
  {
   "cell_type": "markdown",
   "id": "1e592d55",
   "metadata": {},
   "source": [
    "#### Multicollinearity of the data"
   ]
  },
  {
   "cell_type": "code",
   "execution_count": 15,
   "id": "c0b603cc",
   "metadata": {},
   "outputs": [
    {
     "data": {
      "text/html": [
       "<table class=\"dataframe\">\n",
       "<caption>A data.frame: 6 × 11</caption>\n",
       "<thead>\n",
       "\t<tr><th></th><th scope=col>mpg</th><th scope=col>cyl</th><th scope=col>disp</th><th scope=col>hp</th><th scope=col>drat</th><th scope=col>wt</th><th scope=col>qsec</th><th scope=col>vs</th><th scope=col>am</th><th scope=col>gear</th><th scope=col>carb</th></tr>\n",
       "\t<tr><th></th><th scope=col>&lt;dbl&gt;</th><th scope=col>&lt;dbl&gt;</th><th scope=col>&lt;dbl&gt;</th><th scope=col>&lt;dbl&gt;</th><th scope=col>&lt;dbl&gt;</th><th scope=col>&lt;dbl&gt;</th><th scope=col>&lt;dbl&gt;</th><th scope=col>&lt;dbl&gt;</th><th scope=col>&lt;dbl&gt;</th><th scope=col>&lt;dbl&gt;</th><th scope=col>&lt;dbl&gt;</th></tr>\n",
       "</thead>\n",
       "<tbody>\n",
       "\t<tr><th scope=row>Mazda RX4</th><td>21.0</td><td>6</td><td>160</td><td>110</td><td>3.90</td><td>2.620</td><td>16.46</td><td>0</td><td>1</td><td>4</td><td>4</td></tr>\n",
       "\t<tr><th scope=row>Mazda RX4 Wag</th><td>21.0</td><td>6</td><td>160</td><td>110</td><td>3.90</td><td>2.875</td><td>17.02</td><td>0</td><td>1</td><td>4</td><td>4</td></tr>\n",
       "\t<tr><th scope=row>Datsun 710</th><td>22.8</td><td>4</td><td>108</td><td> 93</td><td>3.85</td><td>2.320</td><td>18.61</td><td>1</td><td>1</td><td>4</td><td>1</td></tr>\n",
       "\t<tr><th scope=row>Hornet 4 Drive</th><td>21.4</td><td>6</td><td>258</td><td>110</td><td>3.08</td><td>3.215</td><td>19.44</td><td>1</td><td>0</td><td>3</td><td>1</td></tr>\n",
       "\t<tr><th scope=row>Hornet Sportabout</th><td>18.7</td><td>8</td><td>360</td><td>175</td><td>3.15</td><td>3.440</td><td>17.02</td><td>0</td><td>0</td><td>3</td><td>2</td></tr>\n",
       "\t<tr><th scope=row>Valiant</th><td>18.1</td><td>6</td><td>225</td><td>105</td><td>2.76</td><td>3.460</td><td>20.22</td><td>1</td><td>0</td><td>3</td><td>1</td></tr>\n",
       "</tbody>\n",
       "</table>\n"
      ],
      "text/latex": [
       "A data.frame: 6 × 11\n",
       "\\begin{tabular}{r|lllllllllll}\n",
       "  & mpg & cyl & disp & hp & drat & wt & qsec & vs & am & gear & carb\\\\\n",
       "  & <dbl> & <dbl> & <dbl> & <dbl> & <dbl> & <dbl> & <dbl> & <dbl> & <dbl> & <dbl> & <dbl>\\\\\n",
       "\\hline\n",
       "\tMazda RX4 & 21.0 & 6 & 160 & 110 & 3.90 & 2.620 & 16.46 & 0 & 1 & 4 & 4\\\\\n",
       "\tMazda RX4 Wag & 21.0 & 6 & 160 & 110 & 3.90 & 2.875 & 17.02 & 0 & 1 & 4 & 4\\\\\n",
       "\tDatsun 710 & 22.8 & 4 & 108 &  93 & 3.85 & 2.320 & 18.61 & 1 & 1 & 4 & 1\\\\\n",
       "\tHornet 4 Drive & 21.4 & 6 & 258 & 110 & 3.08 & 3.215 & 19.44 & 1 & 0 & 3 & 1\\\\\n",
       "\tHornet Sportabout & 18.7 & 8 & 360 & 175 & 3.15 & 3.440 & 17.02 & 0 & 0 & 3 & 2\\\\\n",
       "\tValiant & 18.1 & 6 & 225 & 105 & 2.76 & 3.460 & 20.22 & 1 & 0 & 3 & 1\\\\\n",
       "\\end{tabular}\n"
      ],
      "text/markdown": [
       "\n",
       "A data.frame: 6 × 11\n",
       "\n",
       "| <!--/--> | mpg &lt;dbl&gt; | cyl &lt;dbl&gt; | disp &lt;dbl&gt; | hp &lt;dbl&gt; | drat &lt;dbl&gt; | wt &lt;dbl&gt; | qsec &lt;dbl&gt; | vs &lt;dbl&gt; | am &lt;dbl&gt; | gear &lt;dbl&gt; | carb &lt;dbl&gt; |\n",
       "|---|---|---|---|---|---|---|---|---|---|---|---|\n",
       "| Mazda RX4 | 21.0 | 6 | 160 | 110 | 3.90 | 2.620 | 16.46 | 0 | 1 | 4 | 4 |\n",
       "| Mazda RX4 Wag | 21.0 | 6 | 160 | 110 | 3.90 | 2.875 | 17.02 | 0 | 1 | 4 | 4 |\n",
       "| Datsun 710 | 22.8 | 4 | 108 |  93 | 3.85 | 2.320 | 18.61 | 1 | 1 | 4 | 1 |\n",
       "| Hornet 4 Drive | 21.4 | 6 | 258 | 110 | 3.08 | 3.215 | 19.44 | 1 | 0 | 3 | 1 |\n",
       "| Hornet Sportabout | 18.7 | 8 | 360 | 175 | 3.15 | 3.440 | 17.02 | 0 | 0 | 3 | 2 |\n",
       "| Valiant | 18.1 | 6 | 225 | 105 | 2.76 | 3.460 | 20.22 | 1 | 0 | 3 | 1 |\n",
       "\n"
      ],
      "text/plain": [
       "                  mpg  cyl disp hp  drat wt    qsec  vs am gear carb\n",
       "Mazda RX4         21.0 6   160  110 3.90 2.620 16.46 0  1  4    4   \n",
       "Mazda RX4 Wag     21.0 6   160  110 3.90 2.875 17.02 0  1  4    4   \n",
       "Datsun 710        22.8 4   108   93 3.85 2.320 18.61 1  1  4    1   \n",
       "Hornet 4 Drive    21.4 6   258  110 3.08 3.215 19.44 1  0  3    1   \n",
       "Hornet Sportabout 18.7 8   360  175 3.15 3.440 17.02 0  0  3    2   \n",
       "Valiant           18.1 6   225  105 2.76 3.460 20.22 1  0  3    1   "
      ]
     },
     "metadata": {},
     "output_type": "display_data"
    }
   ],
   "source": [
    "head(mtcars)"
   ]
  },
  {
   "cell_type": "code",
   "execution_count": 16,
   "id": "0ccfdd94",
   "metadata": {},
   "outputs": [
    {
     "data": {
      "text/html": [
       "<table class=\"dataframe\">\n",
       "<caption>A matrix: 6 × 6 of type dbl</caption>\n",
       "<thead>\n",
       "\t<tr><th></th><th scope=col>mpg</th><th scope=col>disp</th><th scope=col>hp</th><th scope=col>drat</th><th scope=col>wt</th><th scope=col>qsec</th></tr>\n",
       "</thead>\n",
       "<tbody>\n",
       "\t<tr><th scope=row>mpg</th><td> 1.0000000</td><td>-0.8475514</td><td>-0.7761684</td><td> 0.68117191</td><td>-0.8676594</td><td> 0.41868403</td></tr>\n",
       "\t<tr><th scope=row>disp</th><td>-0.8475514</td><td> 1.0000000</td><td> 0.7909486</td><td>-0.71021393</td><td> 0.8879799</td><td>-0.43369788</td></tr>\n",
       "\t<tr><th scope=row>hp</th><td>-0.7761684</td><td> 0.7909486</td><td> 1.0000000</td><td>-0.44875912</td><td> 0.6587479</td><td>-0.70822339</td></tr>\n",
       "\t<tr><th scope=row>drat</th><td> 0.6811719</td><td>-0.7102139</td><td>-0.4487591</td><td> 1.00000000</td><td>-0.7124406</td><td> 0.09120476</td></tr>\n",
       "\t<tr><th scope=row>wt</th><td>-0.8676594</td><td> 0.8879799</td><td> 0.6587479</td><td>-0.71244065</td><td> 1.0000000</td><td>-0.17471588</td></tr>\n",
       "\t<tr><th scope=row>qsec</th><td> 0.4186840</td><td>-0.4336979</td><td>-0.7082234</td><td> 0.09120476</td><td>-0.1747159</td><td> 1.00000000</td></tr>\n",
       "</tbody>\n",
       "</table>\n"
      ],
      "text/latex": [
       "A matrix: 6 × 6 of type dbl\n",
       "\\begin{tabular}{r|llllll}\n",
       "  & mpg & disp & hp & drat & wt & qsec\\\\\n",
       "\\hline\n",
       "\tmpg &  1.0000000 & -0.8475514 & -0.7761684 &  0.68117191 & -0.8676594 &  0.41868403\\\\\n",
       "\tdisp & -0.8475514 &  1.0000000 &  0.7909486 & -0.71021393 &  0.8879799 & -0.43369788\\\\\n",
       "\thp & -0.7761684 &  0.7909486 &  1.0000000 & -0.44875912 &  0.6587479 & -0.70822339\\\\\n",
       "\tdrat &  0.6811719 & -0.7102139 & -0.4487591 &  1.00000000 & -0.7124406 &  0.09120476\\\\\n",
       "\twt & -0.8676594 &  0.8879799 &  0.6587479 & -0.71244065 &  1.0000000 & -0.17471588\\\\\n",
       "\tqsec &  0.4186840 & -0.4336979 & -0.7082234 &  0.09120476 & -0.1747159 &  1.00000000\\\\\n",
       "\\end{tabular}\n"
      ],
      "text/markdown": [
       "\n",
       "A matrix: 6 × 6 of type dbl\n",
       "\n",
       "| <!--/--> | mpg | disp | hp | drat | wt | qsec |\n",
       "|---|---|---|---|---|---|---|\n",
       "| mpg |  1.0000000 | -0.8475514 | -0.7761684 |  0.68117191 | -0.8676594 |  0.41868403 |\n",
       "| disp | -0.8475514 |  1.0000000 |  0.7909486 | -0.71021393 |  0.8879799 | -0.43369788 |\n",
       "| hp | -0.7761684 |  0.7909486 |  1.0000000 | -0.44875912 |  0.6587479 | -0.70822339 |\n",
       "| drat |  0.6811719 | -0.7102139 | -0.4487591 |  1.00000000 | -0.7124406 |  0.09120476 |\n",
       "| wt | -0.8676594 |  0.8879799 |  0.6587479 | -0.71244065 |  1.0000000 | -0.17471588 |\n",
       "| qsec |  0.4186840 | -0.4336979 | -0.7082234 |  0.09120476 | -0.1747159 |  1.00000000 |\n",
       "\n"
      ],
      "text/plain": [
       "     mpg        disp       hp         drat        wt         qsec       \n",
       "mpg   1.0000000 -0.8475514 -0.7761684  0.68117191 -0.8676594  0.41868403\n",
       "disp -0.8475514  1.0000000  0.7909486 -0.71021393  0.8879799 -0.43369788\n",
       "hp   -0.7761684  0.7909486  1.0000000 -0.44875912  0.6587479 -0.70822339\n",
       "drat  0.6811719 -0.7102139 -0.4487591  1.00000000 -0.7124406  0.09120476\n",
       "wt   -0.8676594  0.8879799  0.6587479 -0.71244065  1.0000000 -0.17471588\n",
       "qsec  0.4186840 -0.4336979 -0.7082234  0.09120476 -0.1747159  1.00000000"
      ]
     },
     "metadata": {},
     "output_type": "display_data"
    }
   ],
   "source": [
    "## Use of a correlation matrix\n",
    "\n",
    "data(mtcars)\n",
    "mtcars_cor <- cor(mtcars[, c(1,3:7)])\n",
    "mtcars_cor"
   ]
  },
  {
   "cell_type": "markdown",
   "id": "4b4ab438",
   "metadata": {},
   "source": [
    "### Residual Analysis"
   ]
  },
  {
   "cell_type": "code",
   "execution_count": 17,
   "id": "e74a5a72",
   "metadata": {},
   "outputs": [
    {
     "data": {
      "image/png": "[encoded data removed]",
      "text/plain": [
       "Plot with title \"Mileage Normality Plot\""
      ]
     },
     "metadata": {
      "image/png": {
       "height": 420,
       "width": 420
      }
     },
     "output_type": "display_data"
    }
   ],
   "source": [
    "# Load the dataset\n",
    "data(mtcars)\n",
    "\n",
    "qqnorm(mtcars$mpg, col = \"brown\", main = \"Mileage Normality Plot\")\n",
    "\n",
    "# Add a reference line to the plot\n",
    "qqline(mtcars$mpg, col = \"purple\")\n"
   ]
  },
  {
   "cell_type": "code",
   "execution_count": 18,
   "id": "da2b1e5c",
   "metadata": {},
   "outputs": [
    {
     "data": {
      "image/png": "[encoded data removed]",
      "text/plain": [
       "Plot with title \"Displacement Normality Plot\""
      ]
     },
     "metadata": {
      "image/png": {
       "height": 420,
       "width": 420
      }
     },
     "output_type": "display_data"
    }
   ],
   "source": [
    "# Create normal probability plot of disp variable\n",
    "qqnorm(mtcars$disp, col = \"black\", main = \"Displacement Normality Plot\")\n",
    "\n",
    "# Add a reference line to the plot\n",
    "qqline(mtcars$disp, col = \"purple\")\n"
   ]
  },
  {
   "cell_type": "code",
   "execution_count": 19,
   "id": "8af6fc33",
   "metadata": {},
   "outputs": [
    {
     "data": {
      "image/png": "[encoded data removed]",
      "text/plain": [
       "Plot with title \"Horsepower Normality Plot\""
      ]
     },
     "metadata": {
      "image/png": {
       "height": 420,
       "width": 420
      }
     },
     "output_type": "display_data"
    }
   ],
   "source": [
    "# Create normal probability plot of hp variable\n",
    "qqnorm(mtcars$hp, col = \"blue\", main = \"Horsepower Normality Plot\")\n",
    "\n",
    "# Add a reference line to the plot\n",
    "qqline(mtcars$hp, col = \"red\")\n"
   ]
  },
  {
   "cell_type": "code",
   "execution_count": 20,
   "id": "35fa2b05",
   "metadata": {},
   "outputs": [
    {
     "data": {
      "image/png": "[encoded data removed]",
      "text/plain": [
       "Plot with title \"Residuals vs Displacement\""
      ]
     },
     "metadata": {
      "image/png": {
       "height": 420,
       "width": 420
      }
     },
     "output_type": "display_data"
    }
   ],
   "source": [
    "# Fit the linear regression model\n",
    "model <- lm(mpg ~ hp + disp, data = mtcars)\n",
    "\n",
    "# Create the residual plots\n",
    "par(mfrow = c(2, 2))\n",
    "plot(model$fitted.values, model$residuals, main = \"Residuals vs Fitted\", xlab = \"Fitted Values\", ylab = \"Residuals\",col = \"red\",pch = 5)\n",
    "plot(mtcars$hp, model$residuals, main = \"Residuals vs Horsepower\", xlab = \"Horsepower\", ylab = \"Residuals\",col='darkgreen',pch=3)\n",
    "plot(mtcars$disp, model$residuals, main = \"Residuals vs Displacement\", xlab = \"Displacement\", ylab = \"Residuals\",col='purple',pch=4)"
   ]
  },
  {
   "cell_type": "markdown",
   "id": "b6ff1fea",
   "metadata": {},
   "source": [
    "### Logistic Regression"
   ]
  },
  {
   "cell_type": "code",
   "execution_count": 21,
   "id": "13cbf7a0",
   "metadata": {},
   "outputs": [],
   "source": [
    "library(MASS)\n",
    "data(Titanic)"
   ]
  },
  {
   "cell_type": "code",
   "execution_count": 22,
   "id": "d4426260",
   "metadata": {},
   "outputs": [],
   "source": [
    "titanic_df <- as.data.frame(Titanic)"
   ]
  },
  {
   "cell_type": "code",
   "execution_count": 23,
   "id": "8c1cf124",
   "metadata": {},
   "outputs": [
    {
     "data": {
      "text/html": [
       "<table class=\"dataframe\">\n",
       "<caption>A data.frame: 6 × 5</caption>\n",
       "<thead>\n",
       "\t<tr><th></th><th scope=col>Class</th><th scope=col>Sex</th><th scope=col>Age</th><th scope=col>Survived</th><th scope=col>Freq</th></tr>\n",
       "\t<tr><th></th><th scope=col>&lt;fct&gt;</th><th scope=col>&lt;fct&gt;</th><th scope=col>&lt;fct&gt;</th><th scope=col>&lt;fct&gt;</th><th scope=col>&lt;dbl&gt;</th></tr>\n",
       "</thead>\n",
       "<tbody>\n",
       "\t<tr><th scope=row>1</th><td>1st </td><td>Male  </td><td>Child</td><td>No</td><td> 0</td></tr>\n",
       "\t<tr><th scope=row>2</th><td>2nd </td><td>Male  </td><td>Child</td><td>No</td><td> 0</td></tr>\n",
       "\t<tr><th scope=row>3</th><td>3rd </td><td>Male  </td><td>Child</td><td>No</td><td>35</td></tr>\n",
       "\t<tr><th scope=row>4</th><td>Crew</td><td>Male  </td><td>Child</td><td>No</td><td> 0</td></tr>\n",
       "\t<tr><th scope=row>5</th><td>1st </td><td>Female</td><td>Child</td><td>No</td><td> 0</td></tr>\n",
       "\t<tr><th scope=row>6</th><td>2nd </td><td>Female</td><td>Child</td><td>No</td><td> 0</td></tr>\n",
       "</tbody>\n",
       "</table>\n"
      ],
      "text/latex": [
       "A data.frame: 6 × 5\n",
       "\\begin{tabular}{r|lllll}\n",
       "  & Class & Sex & Age & Survived & Freq\\\\\n",
       "  & <fct> & <fct> & <fct> & <fct> & <dbl>\\\\\n",
       "\\hline\n",
       "\t1 & 1st  & Male   & Child & No &  0\\\\\n",
       "\t2 & 2nd  & Male   & Child & No &  0\\\\\n",
       "\t3 & 3rd  & Male   & Child & No & 35\\\\\n",
       "\t4 & Crew & Male   & Child & No &  0\\\\\n",
       "\t5 & 1st  & Female & Child & No &  0\\\\\n",
       "\t6 & 2nd  & Female & Child & No &  0\\\\\n",
       "\\end{tabular}\n"
      ],
      "text/markdown": [
       "\n",
       "A data.frame: 6 × 5\n",
       "\n",
       "| <!--/--> | Class &lt;fct&gt; | Sex &lt;fct&gt; | Age &lt;fct&gt; | Survived &lt;fct&gt; | Freq &lt;dbl&gt; |\n",
       "|---|---|---|---|---|---|\n",
       "| 1 | 1st  | Male   | Child | No |  0 |\n",
       "| 2 | 2nd  | Male   | Child | No |  0 |\n",
       "| 3 | 3rd  | Male   | Child | No | 35 |\n",
       "| 4 | Crew | Male   | Child | No |  0 |\n",
       "| 5 | 1st  | Female | Child | No |  0 |\n",
       "| 6 | 2nd  | Female | Child | No |  0 |\n",
       "\n"
      ],
      "text/plain": [
       "  Class Sex    Age   Survived Freq\n",
       "1 1st   Male   Child No        0  \n",
       "2 2nd   Male   Child No        0  \n",
       "3 3rd   Male   Child No       35  \n",
       "4 Crew  Male   Child No        0  \n",
       "5 1st   Female Child No        0  \n",
       "6 2nd   Female Child No        0  "
      ]
     },
     "metadata": {},
     "output_type": "display_data"
    }
   ],
   "source": [
    "head(titanic_df)"
   ]
  },
  {
   "cell_type": "code",
   "execution_count": 24,
   "id": "91a1da3b",
   "metadata": {},
   "outputs": [],
   "source": [
    "log_model <- glm(Survived ~ Age + Sex + Class, data = titanic_df, family = binomial)"
   ]
  },
  {
   "cell_type": "code",
   "execution_count": 25,
   "id": "364734dd",
   "metadata": {},
   "outputs": [
    {
     "data": {
      "text/plain": [
       "\n",
       "Call:\n",
       "glm(formula = Survived ~ Age + Sex + Class, family = binomial, \n",
       "    data = titanic_df)\n",
       "\n",
       "Deviance Residuals: \n",
       "   Min      1Q  Median      3Q     Max  \n",
       "-1.177  -1.177   0.000   1.177   1.177  \n",
       "\n",
       "Coefficients:\n",
       "              Estimate Std. Error z value Pr(>|z|)\n",
       "(Intercept)  1.895e-16  8.660e-01       0        1\n",
       "AgeAdult     3.925e-16  7.071e-01       0        1\n",
       "SexFemale   -3.140e-16  7.071e-01       0        1\n",
       "Class2nd    -1.110e-16  1.000e+00       0        1\n",
       "Class3rd    -1.110e-16  1.000e+00       0        1\n",
       "ClassCrew   -2.220e-16  1.000e+00       0        1\n",
       "\n",
       "(Dispersion parameter for binomial family taken to be 1)\n",
       "\n",
       "    Null deviance: 44.361  on 31  degrees of freedom\n",
       "Residual deviance: 44.361  on 26  degrees of freedom\n",
       "AIC: 56.361\n",
       "\n",
       "Number of Fisher Scoring iterations: 2\n"
      ]
     },
     "metadata": {},
     "output_type": "display_data"
    }
   ],
   "source": [
    "summary(log_model)"
   ]
  },
  {
   "cell_type": "code",
   "execution_count": 26,
   "id": "d6bc6ecc",
   "metadata": {},
   "outputs": [
    {
     "name": "stdout",
     "output_type": "stream",
     "text": [
      "Enter the Age(Child or Adult): Adult\n",
      "Enter the gender of the person(Male or Female): Male\n",
      "Enter the class of the person(1st or 2nd or 3rd or Crew): 3rd\n",
      "The survival status is  No"
     ]
    }
   ],
   "source": [
    "# Prompt the user to enter the Age of the person  \n",
    "nage <- readline(prompt = \"Enter the Age(Child or Adult): \")\n",
    "\n",
    "# Prompt the user to enter the Gender of that person\n",
    "ngender <- readline(prompt = \"Enter the gender of the person(Male or Female): \")\n",
    "\n",
    "# Prompt the user to enter the class of the person\n",
    "nclass <- readline(prompt = \"Enter the class of the person(1st or 2nd or 3rd or Crew): \")\n",
    "\n",
    "# predict whether the person has survived or not\n",
    "status_survival <- predict(log_model, data.frame(Age = nage, Sex = ngender, Class = nclass))\n",
    "\n",
    "\n",
    "predicted_label <- ifelse(status_survival > 0.5, \"Yes\", \"No\")\n",
    "\n",
    "# Print the predicted label\n",
    "cat(\"The survival status is \", predicted_label)"
   ]
  },
  {
   "cell_type": "markdown",
   "id": "159c5879",
   "metadata": {},
   "source": [
    "### Poisson Regression"
   ]
  },
  {
   "cell_type": "code",
   "execution_count": 27,
   "id": "56cea676",
   "metadata": {},
   "outputs": [],
   "source": [
    "data(Insurance)\n"
   ]
  },
  {
   "cell_type": "code",
   "execution_count": 28,
   "id": "373481b6",
   "metadata": {},
   "outputs": [],
   "source": [
    "poss_df<-as.data.frame(Insurance)"
   ]
  },
  {
   "cell_type": "code",
   "execution_count": 29,
   "id": "36203b71",
   "metadata": {},
   "outputs": [
    {
     "data": {
      "text/html": [
       "<table class=\"dataframe\">\n",
       "<caption>A data.frame: 6 × 5</caption>\n",
       "<thead>\n",
       "\t<tr><th></th><th scope=col>District</th><th scope=col>Group</th><th scope=col>Age</th><th scope=col>Holders</th><th scope=col>Claims</th></tr>\n",
       "\t<tr><th></th><th scope=col>&lt;fct&gt;</th><th scope=col>&lt;ord&gt;</th><th scope=col>&lt;ord&gt;</th><th scope=col>&lt;int&gt;</th><th scope=col>&lt;int&gt;</th></tr>\n",
       "</thead>\n",
       "<tbody>\n",
       "\t<tr><th scope=row>1</th><td>1</td><td><span style=white-space:pre-wrap>&lt;1l   </span></td><td><span style=white-space:pre-wrap>&lt;25  </span></td><td> 197</td><td> 38</td></tr>\n",
       "\t<tr><th scope=row>2</th><td>1</td><td><span style=white-space:pre-wrap>&lt;1l   </span></td><td>25-29</td><td> 264</td><td> 35</td></tr>\n",
       "\t<tr><th scope=row>3</th><td>1</td><td><span style=white-space:pre-wrap>&lt;1l   </span></td><td>30-35</td><td> 246</td><td> 20</td></tr>\n",
       "\t<tr><th scope=row>4</th><td>1</td><td><span style=white-space:pre-wrap>&lt;1l   </span></td><td><span style=white-space:pre-wrap>&gt;35  </span></td><td>1680</td><td>156</td></tr>\n",
       "\t<tr><th scope=row>5</th><td>1</td><td>1-1.5l</td><td><span style=white-space:pre-wrap>&lt;25  </span></td><td> 284</td><td> 63</td></tr>\n",
       "\t<tr><th scope=row>6</th><td>1</td><td>1-1.5l</td><td>25-29</td><td> 536</td><td> 84</td></tr>\n",
       "</tbody>\n",
       "</table>\n"
      ],
      "text/latex": [
       "A data.frame: 6 × 5\n",
       "\\begin{tabular}{r|lllll}\n",
       "  & District & Group & Age & Holders & Claims\\\\\n",
       "  & <fct> & <ord> & <ord> & <int> & <int>\\\\\n",
       "\\hline\n",
       "\t1 & 1 & <1l    & <25   &  197 &  38\\\\\n",
       "\t2 & 1 & <1l    & 25-29 &  264 &  35\\\\\n",
       "\t3 & 1 & <1l    & 30-35 &  246 &  20\\\\\n",
       "\t4 & 1 & <1l    & >35   & 1680 & 156\\\\\n",
       "\t5 & 1 & 1-1.5l & <25   &  284 &  63\\\\\n",
       "\t6 & 1 & 1-1.5l & 25-29 &  536 &  84\\\\\n",
       "\\end{tabular}\n"
      ],
      "text/markdown": [
       "\n",
       "A data.frame: 6 × 5\n",
       "\n",
       "| <!--/--> | District &lt;fct&gt; | Group &lt;ord&gt; | Age &lt;ord&gt; | Holders &lt;int&gt; | Claims &lt;int&gt; |\n",
       "|---|---|---|---|---|---|\n",
       "| 1 | 1 | &lt;1l    | &lt;25   |  197 |  38 |\n",
       "| 2 | 1 | &lt;1l    | 25-29 |  264 |  35 |\n",
       "| 3 | 1 | &lt;1l    | 30-35 |  246 |  20 |\n",
       "| 4 | 1 | &lt;1l    | &gt;35   | 1680 | 156 |\n",
       "| 5 | 1 | 1-1.5l | &lt;25   |  284 |  63 |\n",
       "| 6 | 1 | 1-1.5l | 25-29 |  536 |  84 |\n",
       "\n"
      ],
      "text/plain": [
       "  District Group  Age   Holders Claims\n",
       "1 1        <1l    <25    197     38   \n",
       "2 1        <1l    25-29  264     35   \n",
       "3 1        <1l    30-35  246     20   \n",
       "4 1        <1l    >35   1680    156   \n",
       "5 1        1-1.5l <25    284     63   \n",
       "6 1        1-1.5l 25-29  536     84   "
      ]
     },
     "metadata": {},
     "output_type": "display_data"
    }
   ],
   "source": [
    "head(poss_df)"
   ]
  },
  {
   "cell_type": "code",
   "execution_count": 30,
   "id": "fb925fb0",
   "metadata": {},
   "outputs": [
    {
     "data": {
      "text/html": [
       "<style>\n",
       ".list-inline {list-style: none; margin:0; padding: 0}\n",
       ".list-inline>li {display: inline-block}\n",
       ".list-inline>li:not(:last-child)::after {content: \"\\00b7\"; padding: 0 .5ex}\n",
       "</style>\n",
       "<ol class=list-inline><li>64</li><li>5</li></ol>\n"
      ],
      "text/latex": [
       "\\begin{enumerate*}\n",
       "\\item 64\n",
       "\\item 5\n",
       "\\end{enumerate*}\n"
      ],
      "text/markdown": [
       "1. 64\n",
       "2. 5\n",
       "\n",
       "\n"
      ],
      "text/plain": [
       "[1] 64  5"
      ]
     },
     "metadata": {},
     "output_type": "display_data"
    }
   ],
   "source": [
    "dim(poss_df)"
   ]
  },
  {
   "cell_type": "code",
   "execution_count": 31,
   "id": "d73c3d92",
   "metadata": {},
   "outputs": [
    {
     "data": {
      "text/html": [
       "<style>\n",
       ".list-inline {list-style: none; margin:0; padding: 0}\n",
       ".list-inline>li {display: inline-block}\n",
       ".list-inline>li:not(:last-child)::after {content: \"\\00b7\"; padding: 0 .5ex}\n",
       "</style>\n",
       "<ol class=list-inline><li>&lt;25</li><li>25-29</li><li>30-35</li><li>&gt;35</li></ol>\n",
       "\n",
       "<details>\n",
       "\t<summary style=display:list-item;cursor:pointer>\n",
       "\t\t<strong>Levels</strong>:\n",
       "\t</summary>\n",
       "\t<style>\n",
       "\t.list-inline {list-style: none; margin:0; padding: 0}\n",
       "\t.list-inline>li {display: inline-block}\n",
       "\t.list-inline>li:not(:last-child)::after {content: \"\\00b7\"; padding: 0 .5ex}\n",
       "\t</style>\n",
       "\t<ol class=list-inline><li>'&lt;25'</li><li>'25-29'</li><li>'30-35'</li><li>'&gt;35'</li></ol>\n",
       "</details>"
      ],
      "text/latex": [
       "\\begin{enumerate*}\n",
       "\\item <25\n",
       "\\item 25-29\n",
       "\\item 30-35\n",
       "\\item >35\n",
       "\\end{enumerate*}\n",
       "\n",
       "\\emph{Levels}: \\begin{enumerate*}\n",
       "\\item '<25'\n",
       "\\item '25-29'\n",
       "\\item '30-35'\n",
       "\\item '>35'\n",
       "\\end{enumerate*}\n"
      ],
      "text/markdown": [
       "1. &lt;25\n",
       "2. 25-29\n",
       "3. 30-35\n",
       "4. &gt;35\n",
       "\n",
       "\n",
       "\n",
       "**Levels**: 1. '&lt;25'\n",
       "2. '25-29'\n",
       "3. '30-35'\n",
       "4. '&gt;35'\n",
       "\n",
       "\n"
      ],
      "text/plain": [
       "[1] <25   25-29 30-35 >35  \n",
       "Levels: <25 < 25-29 < 30-35 < >35"
      ]
     },
     "metadata": {},
     "output_type": "display_data"
    }
   ],
   "source": [
    "unique(poss_df$Age)"
   ]
  },
  {
   "cell_type": "code",
   "execution_count": 32,
   "id": "9788b4dd",
   "metadata": {},
   "outputs": [
    {
     "data": {
      "text/html": [
       "<style>\n",
       ".list-inline {list-style: none; margin:0; padding: 0}\n",
       ".list-inline>li {display: inline-block}\n",
       ".list-inline>li:not(:last-child)::after {content: \"\\00b7\"; padding: 0 .5ex}\n",
       "</style>\n",
       "<ol class=list-inline><li>&lt;1l</li><li>1-1.5l</li><li>1.5-2l</li><li>&gt;2l</li></ol>\n",
       "\n",
       "<details>\n",
       "\t<summary style=display:list-item;cursor:pointer>\n",
       "\t\t<strong>Levels</strong>:\n",
       "\t</summary>\n",
       "\t<style>\n",
       "\t.list-inline {list-style: none; margin:0; padding: 0}\n",
       "\t.list-inline>li {display: inline-block}\n",
       "\t.list-inline>li:not(:last-child)::after {content: \"\\00b7\"; padding: 0 .5ex}\n",
       "\t</style>\n",
       "\t<ol class=list-inline><li>'&lt;1l'</li><li>'1-1.5l'</li><li>'1.5-2l'</li><li>'&gt;2l'</li></ol>\n",
       "</details>"
      ],
      "text/latex": [
       "\\begin{enumerate*}\n",
       "\\item <1l\n",
       "\\item 1-1.5l\n",
       "\\item 1.5-2l\n",
       "\\item >2l\n",
       "\\end{enumerate*}\n",
       "\n",
       "\\emph{Levels}: \\begin{enumerate*}\n",
       "\\item '<1l'\n",
       "\\item '1-1.5l'\n",
       "\\item '1.5-2l'\n",
       "\\item '>2l'\n",
       "\\end{enumerate*}\n"
      ],
      "text/markdown": [
       "1. &lt;1l\n",
       "2. 1-1.5l\n",
       "3. 1.5-2l\n",
       "4. &gt;2l\n",
       "\n",
       "\n",
       "\n",
       "**Levels**: 1. '&lt;1l'\n",
       "2. '1-1.5l'\n",
       "3. '1.5-2l'\n",
       "4. '&gt;2l'\n",
       "\n",
       "\n"
      ],
      "text/plain": [
       "[1] <1l    1-1.5l 1.5-2l >2l   \n",
       "Levels: <1l < 1-1.5l < 1.5-2l < >2l"
      ]
     },
     "metadata": {},
     "output_type": "display_data"
    }
   ],
   "source": [
    "unique(poss_df$Group)"
   ]
  },
  {
   "cell_type": "code",
   "execution_count": 33,
   "id": "fe314698",
   "metadata": {},
   "outputs": [
    {
     "data": {
      "text/html": [
       "<style>\n",
       ".list-inline {list-style: none; margin:0; padding: 0}\n",
       ".list-inline>li {display: inline-block}\n",
       ".list-inline>li:not(:last-child)::after {content: \"\\00b7\"; padding: 0 .5ex}\n",
       "</style>\n",
       "<ol class=list-inline><li>1</li><li>2</li><li>3</li><li>4</li></ol>\n",
       "\n",
       "<details>\n",
       "\t<summary style=display:list-item;cursor:pointer>\n",
       "\t\t<strong>Levels</strong>:\n",
       "\t</summary>\n",
       "\t<style>\n",
       "\t.list-inline {list-style: none; margin:0; padding: 0}\n",
       "\t.list-inline>li {display: inline-block}\n",
       "\t.list-inline>li:not(:last-child)::after {content: \"\\00b7\"; padding: 0 .5ex}\n",
       "\t</style>\n",
       "\t<ol class=list-inline><li>'1'</li><li>'2'</li><li>'3'</li><li>'4'</li></ol>\n",
       "</details>"
      ],
      "text/latex": [
       "\\begin{enumerate*}\n",
       "\\item 1\n",
       "\\item 2\n",
       "\\item 3\n",
       "\\item 4\n",
       "\\end{enumerate*}\n",
       "\n",
       "\\emph{Levels}: \\begin{enumerate*}\n",
       "\\item '1'\n",
       "\\item '2'\n",
       "\\item '3'\n",
       "\\item '4'\n",
       "\\end{enumerate*}\n"
      ],
      "text/markdown": [
       "1. 1\n",
       "2. 2\n",
       "3. 3\n",
       "4. 4\n",
       "\n",
       "\n",
       "\n",
       "**Levels**: 1. '1'\n",
       "2. '2'\n",
       "3. '3'\n",
       "4. '4'\n",
       "\n",
       "\n"
      ],
      "text/plain": [
       "[1] 1 2 3 4\n",
       "Levels: 1 2 3 4"
      ]
     },
     "metadata": {},
     "output_type": "display_data"
    }
   ],
   "source": [
    "unique(poss_df$District)"
   ]
  },
  {
   "cell_type": "code",
   "execution_count": 34,
   "id": "9a4c1cd9",
   "metadata": {},
   "outputs": [
    {
     "name": "stderr",
     "output_type": "stream",
     "text": [
      "\n",
      "Attaching package: 'dplyr'\n",
      "\n",
      "\n",
      "The following object is masked from 'package:MASS':\n",
      "\n",
      "    select\n",
      "\n",
      "\n",
      "The following objects are masked from 'package:stats':\n",
      "\n",
      "    filter, lag\n",
      "\n",
      "\n",
      "The following objects are masked from 'package:base':\n",
      "\n",
      "    intersect, setdiff, setequal, union\n",
      "\n",
      "\n"
     ]
    }
   ],
   "source": [
    "library(dplyr)"
   ]
  },
  {
   "cell_type": "code",
   "execution_count": 35,
   "id": "5fe6327f",
   "metadata": {},
   "outputs": [],
   "source": [
    "group_lookup <- data.frame(Group = c(\"<1l\", \"1-1.5l\", \"1.5-2l\", \">2l\"),\n",
    "                           Group_code = 1:4)\n",
    "\n",
    "# create a lookup table for Age\n",
    "age_lookup <- data.frame(Age = c(\"<25\", \"25-29\", \"30-35\", \">35\"),\n",
    "                         Age_code = 1:4)\n",
    "\n",
    "district_lookup <- data.frame(District = c(\"1\", \"2\", \"3\", \"4\"),\n",
    "                         District_code = 1:4)\n",
    "\n",
    "# join the lookup tables to the original dataset\n",
    "df_encoded <- poss_df %>%\n",
    "  right_join(group_lookup, by = \"Group\") %>%\n",
    "  right_join(age_lookup, by = \"Age\") %>%\n",
    "  right_join(district_lookup, by = \"District\")  "
   ]
  },
  {
   "cell_type": "code",
   "execution_count": 36,
   "id": "5992bfec",
   "metadata": {},
   "outputs": [
    {
     "data": {
      "text/html": [
       "<table class=\"dataframe\">\n",
       "<caption>A data.frame: 6 × 8</caption>\n",
       "<thead>\n",
       "\t<tr><th></th><th scope=col>District</th><th scope=col>Group</th><th scope=col>Age</th><th scope=col>Holders</th><th scope=col>Claims</th><th scope=col>Group_code</th><th scope=col>Age_code</th><th scope=col>District_code</th></tr>\n",
       "\t<tr><th></th><th scope=col>&lt;chr&gt;</th><th scope=col>&lt;chr&gt;</th><th scope=col>&lt;chr&gt;</th><th scope=col>&lt;int&gt;</th><th scope=col>&lt;int&gt;</th><th scope=col>&lt;int&gt;</th><th scope=col>&lt;int&gt;</th><th scope=col>&lt;int&gt;</th></tr>\n",
       "</thead>\n",
       "<tbody>\n",
       "\t<tr><th scope=row>1</th><td>1</td><td><span style=white-space:pre-wrap>&lt;1l   </span></td><td><span style=white-space:pre-wrap>&lt;25  </span></td><td> 197</td><td> 38</td><td>1</td><td>1</td><td>1</td></tr>\n",
       "\t<tr><th scope=row>2</th><td>1</td><td><span style=white-space:pre-wrap>&lt;1l   </span></td><td>25-29</td><td> 264</td><td> 35</td><td>1</td><td>2</td><td>1</td></tr>\n",
       "\t<tr><th scope=row>3</th><td>1</td><td><span style=white-space:pre-wrap>&lt;1l   </span></td><td>30-35</td><td> 246</td><td> 20</td><td>1</td><td>3</td><td>1</td></tr>\n",
       "\t<tr><th scope=row>4</th><td>1</td><td><span style=white-space:pre-wrap>&lt;1l   </span></td><td><span style=white-space:pre-wrap>&gt;35  </span></td><td>1680</td><td>156</td><td>1</td><td>4</td><td>1</td></tr>\n",
       "\t<tr><th scope=row>5</th><td>1</td><td>1-1.5l</td><td><span style=white-space:pre-wrap>&lt;25  </span></td><td> 284</td><td> 63</td><td>2</td><td>1</td><td>1</td></tr>\n",
       "\t<tr><th scope=row>6</th><td>1</td><td>1-1.5l</td><td>25-29</td><td> 536</td><td> 84</td><td>2</td><td>2</td><td>1</td></tr>\n",
       "</tbody>\n",
       "</table>\n"
      ],
      "text/latex": [
       "A data.frame: 6 × 8\n",
       "\\begin{tabular}{r|llllllll}\n",
       "  & District & Group & Age & Holders & Claims & Group\\_code & Age\\_code & District\\_code\\\\\n",
       "  & <chr> & <chr> & <chr> & <int> & <int> & <int> & <int> & <int>\\\\\n",
       "\\hline\n",
       "\t1 & 1 & <1l    & <25   &  197 &  38 & 1 & 1 & 1\\\\\n",
       "\t2 & 1 & <1l    & 25-29 &  264 &  35 & 1 & 2 & 1\\\\\n",
       "\t3 & 1 & <1l    & 30-35 &  246 &  20 & 1 & 3 & 1\\\\\n",
       "\t4 & 1 & <1l    & >35   & 1680 & 156 & 1 & 4 & 1\\\\\n",
       "\t5 & 1 & 1-1.5l & <25   &  284 &  63 & 2 & 1 & 1\\\\\n",
       "\t6 & 1 & 1-1.5l & 25-29 &  536 &  84 & 2 & 2 & 1\\\\\n",
       "\\end{tabular}\n"
      ],
      "text/markdown": [
       "\n",
       "A data.frame: 6 × 8\n",
       "\n",
       "| <!--/--> | District &lt;chr&gt; | Group &lt;chr&gt; | Age &lt;chr&gt; | Holders &lt;int&gt; | Claims &lt;int&gt; | Group_code &lt;int&gt; | Age_code &lt;int&gt; | District_code &lt;int&gt; |\n",
       "|---|---|---|---|---|---|---|---|---|\n",
       "| 1 | 1 | &lt;1l    | &lt;25   |  197 |  38 | 1 | 1 | 1 |\n",
       "| 2 | 1 | &lt;1l    | 25-29 |  264 |  35 | 1 | 2 | 1 |\n",
       "| 3 | 1 | &lt;1l    | 30-35 |  246 |  20 | 1 | 3 | 1 |\n",
       "| 4 | 1 | &lt;1l    | &gt;35   | 1680 | 156 | 1 | 4 | 1 |\n",
       "| 5 | 1 | 1-1.5l | &lt;25   |  284 |  63 | 2 | 1 | 1 |\n",
       "| 6 | 1 | 1-1.5l | 25-29 |  536 |  84 | 2 | 2 | 1 |\n",
       "\n"
      ],
      "text/plain": [
       "  District Group  Age   Holders Claims Group_code Age_code District_code\n",
       "1 1        <1l    <25    197     38    1          1        1            \n",
       "2 1        <1l    25-29  264     35    1          2        1            \n",
       "3 1        <1l    30-35  246     20    1          3        1            \n",
       "4 1        <1l    >35   1680    156    1          4        1            \n",
       "5 1        1-1.5l <25    284     63    2          1        1            \n",
       "6 1        1-1.5l 25-29  536     84    2          2        1            "
      ]
     },
     "metadata": {},
     "output_type": "display_data"
    }
   ],
   "source": [
    "head(df_encoded)"
   ]
  },
  {
   "cell_type": "code",
   "execution_count": 37,
   "id": "d923dca6",
   "metadata": {},
   "outputs": [
    {
     "data": {
      "text/html": [
       "<style>\n",
       ".list-inline {list-style: none; margin:0; padding: 0}\n",
       ".list-inline>li {display: inline-block}\n",
       ".list-inline>li:not(:last-child)::after {content: \"\\00b7\"; padding: 0 .5ex}\n",
       "</style>\n",
       "<ol class=list-inline><li>64</li><li>8</li></ol>\n"
      ],
      "text/latex": [
       "\\begin{enumerate*}\n",
       "\\item 64\n",
       "\\item 8\n",
       "\\end{enumerate*}\n"
      ],
      "text/markdown": [
       "1. 64\n",
       "2. 8\n",
       "\n",
       "\n"
      ],
      "text/plain": [
       "[1] 64  8"
      ]
     },
     "metadata": {},
     "output_type": "display_data"
    }
   ],
   "source": [
    "dim(df_encoded)"
   ]
  },
  {
   "cell_type": "code",
   "execution_count": 38,
   "id": "14a975f9",
   "metadata": {},
   "outputs": [
    {
     "data": {
      "text/plain": [
       "\n",
       "Call:\n",
       "glm(formula = Claims ~ District_code + Group_code + Age_code + \n",
       "    Holders, family = \"poisson\", data = df_encoded)\n",
       "\n",
       "Deviance Residuals: \n",
       "   Min      1Q  Median      3Q     Max  \n",
       "-5.897  -2.555  -1.081   1.752   7.483  \n",
       "\n",
       "Coefficients:\n",
       "                Estimate Std. Error z value Pr(>|z|)    \n",
       "(Intercept)    2.743e+00  9.104e-02   30.13  < 2e-16 ***\n",
       "District_code -2.563e-01  2.013e-02  -12.73  < 2e-16 ***\n",
       "Group_code    -5.696e-02  1.862e-02   -3.06  0.00222 ** \n",
       "Age_code       5.074e-01  2.411e-02   21.05  < 2e-16 ***\n",
       "Holders        5.142e-04  2.092e-05   24.58  < 2e-16 ***\n",
       "---\n",
       "Signif. codes:  0 '***' 0.001 '**' 0.01 '*' 0.05 '.' 0.1 ' ' 1\n",
       "\n",
       "(Dispersion parameter for poisson family taken to be 1)\n",
       "\n",
       "    Null deviance: 4236.68  on 63  degrees of freedom\n",
       "Residual deviance:  644.23  on 59  degrees of freedom\n",
       "AIC: 971.55\n",
       "\n",
       "Number of Fisher Scoring iterations: 5\n"
      ]
     },
     "metadata": {},
     "output_type": "display_data"
    }
   ],
   "source": [
    "## fitting into the model\n",
    "\n",
    "poss_model <- glm(Claims ~ District_code + Group_code + Age_code + Holders, data = df_encoded, family = \"poisson\")\n",
    "\n",
    "\n",
    "summary(poss_model)"
   ]
  },
  {
   "cell_type": "code",
   "execution_count": 39,
   "id": "1833c05f",
   "metadata": {},
   "outputs": [
    {
     "name": "stdout",
     "output_type": "stream",
     "text": [
      "Enter the district code(1,2,3,4): 3\n",
      "Enter the group('<1l','1-1.5l','1.5-2l','>2l')as(1,2,3,4): 4\n",
      "Enter the age('<25', '25-29', '30-35', '>35')as(1,2,3,4): 1\n",
      "Enter the number of holders: 59\n",
      "The predicted claims are:  2.28"
     ]
    }
   ],
   "source": [
    "# Prompt the user to enter the district code\n",
    "ndist <- readline(prompt = \"Enter the district code(1,2,3,4): \")\n",
    "\n",
    "# Prompt the user to enter the group code\n",
    "ngroup <- readline(prompt = \"Enter the group('<1l','1-1.5l','1.5-2l','>2l')as(1,2,3,4): \")\n",
    "\n",
    "# Prompt the user to enter the age code\n",
    "nage <- readline(prompt = \"Enter the age('<25', '25-29', '30-35', '>35')as(1,2,3,4): \")\n",
    "\n",
    "# Prompt the user to enter the number of holders\n",
    "nholders <- readline(prompt = \"Enter the number of holders: \")\n",
    "\n",
    "# Convert the input to numeric\n",
    "ndist <- as.numeric(ndist)\n",
    "ngroup <- as.numeric(ngroup)\n",
    "nage <- as.numeric(nage)\n",
    "nholders <- as.numeric(nholders)\n",
    "\n",
    "# Predict the disp of the car based on the mileage using the linear regression model\n",
    "claims_predicted <- predict(poss_model, data.frame(District_code = ndist,Group_code = ngroup,Age_code = nage,Holders = nholders))\n",
    "\n",
    "\n",
    "cat(\"The predicted claims are: \", round(claims_predicted,2))"
   ]
  },
  {
   "cell_type": "markdown",
   "id": "b63d79f1",
   "metadata": {},
   "source": [
    "#### Evaluation of Models"
   ]
  },
  {
   "cell_type": "code",
   "execution_count": 40,
   "id": "e821005a",
   "metadata": {},
   "outputs": [],
   "source": [
    "# using mtcars dataset\n",
    "\n",
    "# Set the seed for reproducibility\n",
    "set.seed(123)\n",
    "\n",
    "# Randomly sample 80% of the data for training\n",
    "trainIndex <- sample(1:nrow(mtcars), round(0.8*nrow(mtcars)), replace = FALSE)\n",
    "training <- mtcars[trainIndex,]\n",
    "testing <- mtcars[-trainIndex,]\n",
    "\n"
   ]
  },
  {
   "cell_type": "code",
   "execution_count": 41,
   "id": "c56fd11e",
   "metadata": {},
   "outputs": [],
   "source": [
    "# Fit a linear regression model\n",
    "model <- lm(mpg ~ ., data = training)\n"
   ]
  },
  {
   "cell_type": "code",
   "execution_count": 42,
   "id": "6c9e86d6",
   "metadata": {},
   "outputs": [],
   "source": [
    "# Make predictions on the test data\n",
    "predictions <- predict(model, testing)\n",
    "\n",
    "# Calculate the RMSE\n",
    "rmse <- sqrt(mean((predictions - testing$mpg)^2))\n"
   ]
  },
  {
   "cell_type": "code",
   "execution_count": 43,
   "id": "f41f6416",
   "metadata": {},
   "outputs": [],
   "source": [
    "# Calculate R-squared\n",
    "r2 <- 1 - sum((testing$mpg - predictions)^2) / sum((testing$mpg - mean(testing$mpg))^2)\n",
    "\n",
    "# Calculate MAE\n",
    "mae <- mean(abs(predictions - testing$mpg))\n"
   ]
  },
  {
   "cell_type": "code",
   "execution_count": 44,
   "id": "3477fe07",
   "metadata": {},
   "outputs": [
    {
     "name": "stdout",
     "output_type": "stream",
     "text": [
      "The rmse value is: 2.434413 \n",
      "The mae value is: 2.22046 \n",
      "The r2 score is: 0.4615114 \n"
     ]
    }
   ],
   "source": [
    "cat('The rmse value is:',rmse,\"\\n\")\n",
    "cat('The mae value is:',mae,\"\\n\")\n",
    "cat('The r2 score is:',r2,\"\\n\")"
   ]
  },
  {
   "cell_type": "markdown",
   "id": "11d36ddf",
   "metadata": {},
   "source": [
    "### Confusion Matrix"
   ]
  },
  {
   "cell_type": "code",
   "execution_count": 45,
   "id": "36314879",
   "metadata": {},
   "outputs": [],
   "source": [
    "## using iris dataset\n",
    "\n",
    "# Load the dataset\n",
    "data(iris)\n",
    "\n",
    "# Split the dataset into training and test sets\n",
    "set.seed(123)\n",
    "trainIndex <- sample(1:nrow(iris), round(0.8*nrow(iris)), replace = FALSE)\n",
    "training <- iris[trainIndex,]\n",
    "testing <- iris[-trainIndex,]"
   ]
  },
  {
   "cell_type": "code",
   "execution_count": 46,
   "id": "b41b5c4a",
   "metadata": {},
   "outputs": [
    {
     "name": "stderr",
     "output_type": "stream",
     "text": [
      "Warning message:\n",
      "\"glm.fit: algorithm did not converge\"\n",
      "Warning message:\n",
      "\"glm.fit: fitted probabilities numerically 0 or 1 occurred\"\n"
     ]
    }
   ],
   "source": [
    "# Fit a logistic regression model\n",
    "model <- glm(Species ~ Petal.Length + Petal.Width, data = training, family = binomial)\n",
    "\n",
    "# Make predictions on the test data\n",
    "predictions <- predict(model, newdata = testing, type = \"response\")"
   ]
  },
  {
   "cell_type": "code",
   "execution_count": 55,
   "id": "3035d6bc",
   "metadata": {},
   "outputs": [
    {
     "data": {
      "text/plain": [
       "        predictedvr\n",
       "actualvr  0  1\n",
       "       0 10  5\n",
       "       1  0 15"
      ]
     },
     "metadata": {},
     "output_type": "display_data"
    }
   ],
   "source": [
    "# Create a confusion matrix\n",
    "actualvr <- as.numeric(testing$Species == \"versicolor\")\n",
    "predictedvr <- as.numeric(predictions > 0.5)\n",
    "confusionMatrix <- table(actualvr, predictedvr)\n",
    "confusionMatrix\n"
   ]
  },
  {
   "cell_type": "code",
   "execution_count": 56,
   "id": "2f939964",
   "metadata": {},
   "outputs": [
    {
     "data": {
      "text/plain": [
       "        predictedvg\n",
       "actualvg  0  1\n",
       "       0 10 15\n",
       "       1  0  5"
      ]
     },
     "metadata": {},
     "output_type": "display_data"
    }
   ],
   "source": [
    "# Create a confusion matrix\n",
    "actualvg <- as.numeric(testing$Species == \"virginica\")\n",
    "predictedvg <- as.numeric(predictions > 0.5)\n",
    "confusionMatrix <- table(actualvg, predictedvg)\n",
    "confusionMatrix"
   ]
  },
  {
   "cell_type": "code",
   "execution_count": 57,
   "id": "1d83027d",
   "metadata": {},
   "outputs": [
    {
     "data": {
      "text/plain": [
       "       predicteds\n",
       "actuals  0  1\n",
       "      0  0 20\n",
       "      1 10  0"
      ]
     },
     "metadata": {},
     "output_type": "display_data"
    }
   ],
   "source": [
    "# Create a confusion matrix\n",
    "actuals <- as.numeric(testing$Species == \"setosa\")\n",
    "predicteds <- as.numeric(predictions > 0.5)\n",
    "confusionMatrix <- table(actuals, predicteds)\n",
    "confusionMatrix"
   ]
  },
  {
   "cell_type": "markdown",
   "id": "bd11fed1",
   "metadata": {},
   "source": [
    "### Roc - curve"
   ]
  },
  {
   "cell_type": "code",
   "execution_count": 59,
   "id": "3e18faf1",
   "metadata": {},
   "outputs": [
    {
     "name": "stderr",
     "output_type": "stream",
     "text": [
      "Setting levels: control = 0, case = 1\n",
      "\n",
      "Setting direction: controls < cases\n",
      "\n"
     ]
    },
    {
     "data": {
      "image/png": "[encoded data removed]",
      "text/plain": [
       "plot without title"
      ]
     },
     "metadata": {
      "image/png": {
       "height": 420,
       "width": 420
      }
     },
     "output_type": "display_data"
    }
   ],
   "source": [
    "# Create an ROC curve\n",
    "library(pROC)\n",
    "rocCurve <- roc(actualvr, predictedvr)\n",
    "plot(rocCurve)"
   ]
  }
 ],
 "metadata": {
  "kernelspec": {
   "display_name": "R",
   "language": "R",
   "name": "ir"
  },
  "language_info": {
   "codemirror_mode": "r",
   "file_extension": ".r",
   "mimetype": "text/x-r-source",
   "name": "R",
   "pygments_lexer": "r",
   "version": "4.2.2"
  }
 },
 "nbformat": 4,
 "nbformat_minor": 5
}
