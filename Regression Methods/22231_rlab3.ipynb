{
 "cells": [
  {
   "cell_type": "markdown",
   "id": "ac4d9564",
   "metadata": {},
   "source": [
    "### Title: \"R Programs\"\n",
    "\n",
    "### Date: 15 Feb 2023\n",
    "\n",
    "### Name: K Lalith Aditya\n",
    "\n",
    "### Class: Msc 1st Year\n",
    "\n",
    "### Semester: 2\n",
    "\n",
    "### Regd No: 22231\n"
   ]
  },
  {
   "cell_type": "markdown",
   "id": "d3a650f0",
   "metadata": {},
   "source": [
    "### User defined functions :- Cube of a function with 1 Argument"
   ]
  },
  {
   "cell_type": "code",
   "execution_count": 4,
   "id": "abfd6505",
   "metadata": {},
   "outputs": [
    {
     "name": "stdout",
     "output_type": "stream",
     "text": [
      "[1] 1\n",
      "[1] 8\n",
      "[1] 27\n",
      "[1] 64\n"
     ]
    }
   ],
   "source": [
    "Cube<-function(a)\n",
    "{\n",
    "  for(i in 1:a){\n",
    "    print(i^3)\n",
    "  }\n",
    "}\n",
    "Cube(4)"
   ]
  },
  {
   "cell_type": "markdown",
   "id": "f505271c",
   "metadata": {},
   "source": [
    "## Calling a Function with No Argument"
   ]
  },
  {
   "cell_type": "code",
   "execution_count": 9,
   "id": "460dfbc7",
   "metadata": {},
   "outputs": [
    {
     "name": "stdout",
     "output_type": "stream",
     "text": [
      "[1] 120\n"
     ]
    }
   ],
   "source": [
    "fact<-function()\n",
    "{\n",
    " print(factorial(5))\n",
    "}\n",
    "fact()"
   ]
  },
  {
   "cell_type": "markdown",
   "id": "e8cdc344",
   "metadata": {},
   "source": [
    "## Function with more than 1 Argument"
   ]
  },
  {
   "cell_type": "code",
   "execution_count": 10,
   "id": "c725ce4e",
   "metadata": {},
   "outputs": [
    {
     "name": "stdout",
     "output_type": "stream",
     "text": [
      "[1] 16\n"
     ]
    }
   ],
   "source": [
    "pow<-function(a=3,b=2){\n",
    "  print(a^b)\n",
    "}\n",
    "\n",
    "pow(4,2)\n",
    "# If the arguments are not provided then,the default values fromt the function will be taken."
   ]
  },
  {
   "cell_type": "markdown",
   "id": "fa44ecae",
   "metadata": {},
   "source": [
    "## Lazy evaluation of a function\n"
   ]
  },
  {
   "cell_type": "code",
   "execution_count": 11,
   "id": "91a984e5",
   "metadata": {},
   "outputs": [
    {
     "name": "stdout",
     "output_type": "stream",
     "text": [
      "[1] 4\n",
      "[1] 2\n"
     ]
    }
   ],
   "source": [
    "lazy<- function(a, b) \n",
    "{ \n",
    "  print(a^2) \n",
    "  print(a) \n",
    "  #print(b)\n",
    "}\n",
    "lazy(2,10)"
   ]
  },
  {
   "cell_type": "markdown",
   "id": "ee99577c",
   "metadata": {},
   "source": [
    "## R- Strings"
   ]
  },
  {
   "cell_type": "code",
   "execution_count": 12,
   "id": "3d971b18",
   "metadata": {},
   "outputs": [
    {
     "data": {
      "text/html": [
       "'Hello World'"
      ],
      "text/latex": [
       "'Hello World'"
      ],
      "text/markdown": [
       "'Hello World'"
      ],
      "text/plain": [
       "[1] \"Hello World\""
      ]
     },
     "metadata": {},
     "output_type": "display_data"
    }
   ],
   "source": [
    "# String\n",
    "\n",
    "a<- 'Hello World'\n",
    "a"
   ]
  },
  {
   "cell_type": "markdown",
   "id": "acd79194",
   "metadata": {},
   "source": [
    "### Combining two or more strings"
   ]
  },
  {
   "cell_type": "code",
   "execution_count": 14,
   "id": "4c4d88ab",
   "metadata": {},
   "outputs": [
    {
     "data": {
      "text/html": [
       "'hi there'"
      ],
      "text/latex": [
       "'hi there'"
      ],
      "text/markdown": [
       "'hi there'"
      ],
      "text/plain": [
       "[1] \"hi there\""
      ]
     },
     "metadata": {},
     "output_type": "display_data"
    }
   ],
   "source": [
    "A<-'hi'\n",
    "B<-'there'\n",
    "paste(A,B)"
   ]
  },
  {
   "cell_type": "code",
   "execution_count": 20,
   "id": "22cc9b89",
   "metadata": {},
   "outputs": [
    {
     "data": {
      "text/html": [
       "'worldcup'"
      ],
      "text/latex": [
       "'worldcup'"
      ],
      "text/markdown": [
       "'worldcup'"
      ],
      "text/plain": [
       "[1] \"worldcup\""
      ]
     },
     "metadata": {},
     "output_type": "display_data"
    }
   ],
   "source": [
    "# if we want to combine strings without space in between them we use sep\n",
    "\n",
    "a<-\"world\"\n",
    "b<-'cup'\n",
    "\n",
    "paste(a,b,sep=\"\")"
   ]
  },
  {
   "cell_type": "code",
   "execution_count": 30,
   "id": "de5f67b8",
   "metadata": {},
   "outputs": [
    {
     "name": "stdout",
     "output_type": "stream",
     "text": [
      "[1] \"doll-cat-dragon\"\n",
      "[1] \"dollcatdragon\"\n"
     ]
    }
   ],
   "source": [
    "## Using sep and collapse\n",
    "\n",
    "a<-'doll'\n",
    "b<-'cat'\n",
    "c<-'dragon'\n",
    "\n",
    "print(paste(a,b,c,sep='-'))\n",
    "\n",
    "print(paste(a,b,c,sep='',collapse=''))"
   ]
  },
  {
   "cell_type": "code",
   "execution_count": 34,
   "id": "68a49973",
   "metadata": {},
   "outputs": [
    {
     "data": {
      "text/html": [
       "9"
      ],
      "text/latex": [
       "9"
      ],
      "text/markdown": [
       "9"
      ],
      "text/plain": [
       "[1] 9"
      ]
     },
     "metadata": {},
     "output_type": "display_data"
    }
   ],
   "source": [
    "# Counting number of characters\n",
    "\n",
    "a<-'oblivious'\n",
    "nchar(a) "
   ]
  },
  {
   "cell_type": "markdown",
   "id": "8f418243",
   "metadata": {},
   "source": [
    "## Change case"
   ]
  },
  {
   "cell_type": "code",
   "execution_count": 36,
   "id": "c2af6998",
   "metadata": {},
   "outputs": [
    {
     "name": "stdout",
     "output_type": "stream",
     "text": [
      "[1] \"LOWER\"\n",
      "[1] \"upper\"\n"
     ]
    }
   ],
   "source": [
    "#To upper and to lower functions\n",
    "\n",
    "up<-'UPPER'\n",
    "low<-'lower'\n",
    "\n",
    "# changing upper to lower\n",
    "print(toupper(low))\n",
    "\n",
    "# changing lower to upper\n",
    "print(tolower(up))"
   ]
  },
  {
   "cell_type": "markdown",
   "id": "d049fc79",
   "metadata": {},
   "source": [
    "### Substring"
   ]
  },
  {
   "cell_type": "code",
   "execution_count": 39,
   "id": "ae7ea3e3",
   "metadata": {},
   "outputs": [
    {
     "data": {
      "text/html": [
       "'india australia'"
      ],
      "text/latex": [
       "'india australia'"
      ],
      "text/markdown": [
       "'india australia'"
      ],
      "text/plain": [
       "[1] \"india australia\""
      ]
     },
     "metadata": {},
     "output_type": "display_data"
    }
   ],
   "source": [
    "#Substring from a main string\n",
    "quad<-(\"india australia japan america\")\n",
    "substring(quad,1,15)"
   ]
  },
  {
   "cell_type": "markdown",
   "id": "db7f29a5",
   "metadata": {},
   "source": [
    "### Format function\n"
   ]
  },
  {
   "cell_type": "code",
   "execution_count": 40,
   "id": "9043d70d",
   "metadata": {},
   "outputs": [
    {
     "name": "stdout",
     "output_type": "stream",
     "text": [
      "[1] \"left      \"\n",
      "[1] \"  center  \"\n",
      "[1] \"     right\"\n"
     ]
    }
   ],
   "source": [
    "result1 <- format(\"left\", width = 10,  justify = \"l\")\n",
    " \n",
    "# Placing string in the center\n",
    "result2 <- format(\"center\", width = 10,  justify = \"c\")\n",
    " \n",
    "# Placing string in the right\n",
    "result3 <- format(\"right\", width = 10, justify = \"r\")\n",
    " \n",
    "# Getting the different string placement\n",
    "print(result1)\n",
    "print(result2)\n",
    "print(result3)"
   ]
  }
 ],
 "metadata": {
  "kernelspec": {
   "display_name": "R",
   "language": "R",
   "name": "ir"
  },
  "language_info": {
   "codemirror_mode": "r",
   "file_extension": ".r",
   "mimetype": "text/x-r-source",
   "name": "R",
   "pygments_lexer": "r",
   "version": "4.2.2"
  }
 },
 "nbformat": 4,
 "nbformat_minor": 5
}
