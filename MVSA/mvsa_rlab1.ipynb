{
 "cells": [
  {
   "cell_type": "markdown",
   "id": "fa5be416",
   "metadata": {},
   "source": [
    "### Date: 17/02/2023\n",
    "### Regd No: 22231\n",
    "### Name: K Lalith Aditya\n",
    "### MDSC-202(P) - Multivaraite Statistical Analysis\n",
    "### R Lab\n"
   ]
  },
  {
   "cell_type": "markdown",
   "id": "610c8d7e",
   "metadata": {},
   "source": [
    "### Matrix Structure"
   ]
  },
  {
   "cell_type": "code",
   "execution_count": 35,
   "id": "745ceb53",
   "metadata": {},
   "outputs": [
    {
     "data": {
      "text/html": [
       "<table class=\"dataframe\">\n",
       "<caption>A matrix: 2 × 3 of type dbl</caption>\n",
       "<tbody>\n",
       "\t<tr><td>1</td><td>3</td><td>5</td></tr>\n",
       "\t<tr><td>2</td><td>4</td><td>6</td></tr>\n",
       "</tbody>\n",
       "</table>\n"
      ],
      "text/latex": [
       "A matrix: 2 × 3 of type dbl\n",
       "\\begin{tabular}{lll}\n",
       "\t 1 & 3 & 5\\\\\n",
       "\t 2 & 4 & 6\\\\\n",
       "\\end{tabular}\n"
      ],
      "text/markdown": [
       "\n",
       "A matrix: 2 × 3 of type dbl\n",
       "\n",
       "| 1 | 3 | 5 |\n",
       "| 2 | 4 | 6 |\n",
       "\n"
      ],
      "text/plain": [
       "     [,1] [,2] [,3]\n",
       "[1,] 1    3    5   \n",
       "[2,] 2    4    6   "
      ]
     },
     "metadata": {},
     "output_type": "display_data"
    }
   ],
   "source": [
    "A <- matrix(data=c(1,2,3,4,5,6),nrow=2,ncol=2+1)\n",
    "A"
   ]
  },
  {
   "cell_type": "markdown",
   "id": "12539700",
   "metadata": {},
   "source": [
    "### Arrangement by Row"
   ]
  },
  {
   "cell_type": "code",
   "execution_count": 36,
   "id": "0b84a4e7",
   "metadata": {},
   "outputs": [
    {
     "data": {
      "text/html": [
       "<table class=\"dataframe\">\n",
       "<caption>A matrix: 2 × 4 of type dbl</caption>\n",
       "<tbody>\n",
       "\t<tr><td>9</td><td>8</td><td>7</td><td>6</td></tr>\n",
       "\t<tr><td>5</td><td>4</td><td>3</td><td>2</td></tr>\n",
       "</tbody>\n",
       "</table>\n"
      ],
      "text/latex": [
       "A matrix: 2 × 4 of type dbl\n",
       "\\begin{tabular}{llll}\n",
       "\t 9 & 8 & 7 & 6\\\\\n",
       "\t 5 & 4 & 3 & 2\\\\\n",
       "\\end{tabular}\n"
      ],
      "text/markdown": [
       "\n",
       "A matrix: 2 × 4 of type dbl\n",
       "\n",
       "| 9 | 8 | 7 | 6 |\n",
       "| 5 | 4 | 3 | 2 |\n",
       "\n"
      ],
      "text/plain": [
       "     [,1] [,2] [,3] [,4]\n",
       "[1,] 9    8    7    6   \n",
       "[2,] 5    4    3    2   "
      ]
     },
     "metadata": {},
     "output_type": "display_data"
    }
   ],
   "source": [
    "B <- matrix(data=c(9,8,7,6,5,4,3,2),nrow=2,ncol=4,byrow=TRUE)\n",
    "B"
   ]
  },
  {
   "cell_type": "markdown",
   "id": "b3662626",
   "metadata": {},
   "source": [
    "### Arrangement by Column"
   ]
  },
  {
   "cell_type": "code",
   "execution_count": 37,
   "id": "41af4a83",
   "metadata": {},
   "outputs": [
    {
     "data": {
      "text/html": [
       "<table class=\"dataframe\">\n",
       "<caption>A matrix: 3 × 2 of type dbl</caption>\n",
       "<tbody>\n",
       "\t<tr><td>9</td><td>6</td></tr>\n",
       "\t<tr><td>8</td><td>5</td></tr>\n",
       "\t<tr><td>7</td><td>4</td></tr>\n",
       "</tbody>\n",
       "</table>\n"
      ],
      "text/latex": [
       "A matrix: 3 × 2 of type dbl\n",
       "\\begin{tabular}{ll}\n",
       "\t 9 & 6\\\\\n",
       "\t 8 & 5\\\\\n",
       "\t 7 & 4\\\\\n",
       "\\end{tabular}\n"
      ],
      "text/markdown": [
       "\n",
       "A matrix: 3 × 2 of type dbl\n",
       "\n",
       "| 9 | 6 |\n",
       "| 8 | 5 |\n",
       "| 7 | 4 |\n",
       "\n"
      ],
      "text/plain": [
       "     [,1] [,2]\n",
       "[1,] 9    6   \n",
       "[2,] 8    5   \n",
       "[3,] 7    4   "
      ]
     },
     "metadata": {},
     "output_type": "display_data"
    }
   ],
   "source": [
    "B <- matrix(data=c(9,8,7,6,5,4),nrow=3,ncol=2,byrow=FALSE)\n",
    "B"
   ]
  },
  {
   "cell_type": "markdown",
   "id": "422aa25e",
   "metadata": {},
   "source": [
    "### rbind and cbind"
   ]
  },
  {
   "cell_type": "code",
   "execution_count": 38,
   "id": "cf991409",
   "metadata": {},
   "outputs": [
    {
     "data": {
      "text/html": [
       "<table class=\"dataframe\">\n",
       "<caption>A matrix: 2 × 5 of type int</caption>\n",
       "<tbody>\n",
       "\t<tr><td>-1</td><td> 0</td><td> 1</td><td> 2</td><td>3</td></tr>\n",
       "\t<tr><td>-4</td><td>-3</td><td>-2</td><td>-1</td><td>0</td></tr>\n",
       "</tbody>\n",
       "</table>\n"
      ],
      "text/latex": [
       "A matrix: 2 × 5 of type int\n",
       "\\begin{tabular}{lllll}\n",
       "\t -1 &  0 &  1 &  2 & 3\\\\\n",
       "\t -4 & -3 & -2 & -1 & 0\\\\\n",
       "\\end{tabular}\n"
      ],
      "text/markdown": [
       "\n",
       "A matrix: 2 × 5 of type int\n",
       "\n",
       "| -1 |  0 |  1 |  2 | 3 |\n",
       "| -4 | -3 | -2 | -1 | 0 |\n",
       "\n"
      ],
      "text/plain": [
       "     [,1] [,2] [,3] [,4] [,5]\n",
       "[1,] -1    0    1    2   3   \n",
       "[2,] -4   -3   -2   -1   0   "
      ]
     },
     "metadata": {},
     "output_type": "display_data"
    }
   ],
   "source": [
    "rb<- rbind(-1:3,-4:0)\n",
    "rb"
   ]
  },
  {
   "cell_type": "code",
   "execution_count": 39,
   "id": "30d1b95c",
   "metadata": {},
   "outputs": [
    {
     "data": {
      "text/html": [
       "<table class=\"dataframe\">\n",
       "<caption>A matrix: 5 × 2 of type int</caption>\n",
       "<tbody>\n",
       "\t<tr><td>-2</td><td>-2</td></tr>\n",
       "\t<tr><td>-1</td><td>-1</td></tr>\n",
       "\t<tr><td> 0</td><td> 0</td></tr>\n",
       "\t<tr><td> 1</td><td> 1</td></tr>\n",
       "\t<tr><td> 2</td><td> 2</td></tr>\n",
       "</tbody>\n",
       "</table>\n"
      ],
      "text/latex": [
       "A matrix: 5 × 2 of type int\n",
       "\\begin{tabular}{ll}\n",
       "\t -2 & -2\\\\\n",
       "\t -1 & -1\\\\\n",
       "\t  0 &  0\\\\\n",
       "\t  1 &  1\\\\\n",
       "\t  2 &  2\\\\\n",
       "\\end{tabular}\n"
      ],
      "text/markdown": [
       "\n",
       "A matrix: 5 × 2 of type int\n",
       "\n",
       "| -2 | -2 |\n",
       "| -1 | -1 |\n",
       "|  0 |  0 |\n",
       "|  1 |  1 |\n",
       "|  2 |  2 |\n",
       "\n"
      ],
      "text/plain": [
       "     [,1] [,2]\n",
       "[1,] -2   -2  \n",
       "[2,] -1   -1  \n",
       "[3,]  0    0  \n",
       "[4,]  1    1  \n",
       "[5,]  2    2  "
      ]
     },
     "metadata": {},
     "output_type": "display_data"
    }
   ],
   "source": [
    "cb<- cbind(-2:2,-2:2)\n",
    "cb"
   ]
  },
  {
   "cell_type": "code",
   "execution_count": 40,
   "id": "400874b1",
   "metadata": {},
   "outputs": [
    {
     "data": {
      "text/html": [
       "<table class=\"dataframe\">\n",
       "<caption>A matrix: 2 × 3 of type dbl</caption>\n",
       "<tbody>\n",
       "\t<tr><td>1</td><td>3</td><td>5</td></tr>\n",
       "\t<tr><td>2</td><td>4</td><td>6</td></tr>\n",
       "</tbody>\n",
       "</table>\n"
      ],
      "text/latex": [
       "A matrix: 2 × 3 of type dbl\n",
       "\\begin{tabular}{lll}\n",
       "\t 1 & 3 & 5\\\\\n",
       "\t 2 & 4 & 6\\\\\n",
       "\\end{tabular}\n"
      ],
      "text/markdown": [
       "\n",
       "A matrix: 2 × 3 of type dbl\n",
       "\n",
       "| 1 | 3 | 5 |\n",
       "| 2 | 4 | 6 |\n",
       "\n"
      ],
      "text/plain": [
       "     [,1] [,2] [,3]\n",
       "[1,] 1    3    5   \n",
       "[2,] 2    4    6   "
      ]
     },
     "metadata": {},
     "output_type": "display_data"
    }
   ],
   "source": [
    "A <-matrix(data=c(1,2,3,4,5,6),nrow=2,ncol=3)\n",
    "A"
   ]
  },
  {
   "cell_type": "markdown",
   "id": "37c2b82d",
   "metadata": {},
   "source": [
    "### Dimension"
   ]
  },
  {
   "cell_type": "code",
   "execution_count": 41,
   "id": "17cd71bc",
   "metadata": {},
   "outputs": [
    {
     "data": {
      "text/html": [
       "<style>\n",
       ".list-inline {list-style: none; margin:0; padding: 0}\n",
       ".list-inline>li {display: inline-block}\n",
       ".list-inline>li:not(:last-child)::after {content: \"\\00b7\"; padding: 0 .5ex}\n",
       "</style>\n",
       "<ol class=list-inline><li>2</li><li>3</li></ol>\n"
      ],
      "text/latex": [
       "\\begin{enumerate*}\n",
       "\\item 2\n",
       "\\item 3\n",
       "\\end{enumerate*}\n"
      ],
      "text/markdown": [
       "1. 2\n",
       "2. 3\n",
       "\n",
       "\n"
      ],
      "text/plain": [
       "[1] 2 3"
      ]
     },
     "metadata": {},
     "output_type": "display_data"
    }
   ],
   "source": [
    "dim(A)"
   ]
  },
  {
   "cell_type": "code",
   "execution_count": 42,
   "id": "d8a6510a",
   "metadata": {},
   "outputs": [
    {
     "data": {
      "text/html": [
       "3"
      ],
      "text/latex": [
       "3"
      ],
      "text/markdown": [
       "3"
      ],
      "text/plain": [
       "[1] 3"
      ]
     },
     "metadata": {},
     "output_type": "display_data"
    }
   ],
   "source": [
    "dim(A)[2]"
   ]
  },
  {
   "cell_type": "markdown",
   "id": "8dd7ab35",
   "metadata": {},
   "source": [
    "### No of rows"
   ]
  },
  {
   "cell_type": "code",
   "execution_count": 43,
   "id": "d62be530",
   "metadata": {},
   "outputs": [
    {
     "data": {
      "text/html": [
       "2"
      ],
      "text/latex": [
       "2"
      ],
      "text/markdown": [
       "2"
      ],
      "text/plain": [
       "[1] 2"
      ]
     },
     "metadata": {},
     "output_type": "display_data"
    }
   ],
   "source": [
    "nrow(A)"
   ]
  },
  {
   "cell_type": "markdown",
   "id": "ccb11184",
   "metadata": {},
   "source": [
    "### No of columns"
   ]
  },
  {
   "cell_type": "code",
   "execution_count": 44,
   "id": "da06f8d3",
   "metadata": {},
   "outputs": [
    {
     "data": {
      "text/html": [
       "3"
      ],
      "text/latex": [
       "3"
      ],
      "text/markdown": [
       "3"
      ],
      "text/plain": [
       "[1] 3"
      ]
     },
     "metadata": {},
     "output_type": "display_data"
    }
   ],
   "source": [
    "ncol(A)"
   ]
  },
  {
   "cell_type": "markdown",
   "id": "0ab952f2",
   "metadata": {},
   "source": [
    "### Extracting elements from a Matrix"
   ]
  },
  {
   "cell_type": "code",
   "execution_count": 45,
   "id": "53ab00bf",
   "metadata": {},
   "outputs": [
    {
     "data": {
      "text/html": [
       "<table class=\"dataframe\">\n",
       "<caption>A matrix: 4 × 4 of type dbl</caption>\n",
       "<tbody>\n",
       "\t<tr><td>0.1</td><td>0.5</td><td>0.9</td><td>1.3</td></tr>\n",
       "\t<tr><td>0.2</td><td>0.6</td><td>1.0</td><td>1.4</td></tr>\n",
       "\t<tr><td>0.3</td><td>0.7</td><td>1.1</td><td>1.5</td></tr>\n",
       "\t<tr><td>0.4</td><td>0.8</td><td>1.2</td><td>1.6</td></tr>\n",
       "</tbody>\n",
       "</table>\n"
      ],
      "text/latex": [
       "A matrix: 4 × 4 of type dbl\n",
       "\\begin{tabular}{llll}\n",
       "\t 0.1 & 0.5 & 0.9 & 1.3\\\\\n",
       "\t 0.2 & 0.6 & 1.0 & 1.4\\\\\n",
       "\t 0.3 & 0.7 & 1.1 & 1.5\\\\\n",
       "\t 0.4 & 0.8 & 1.2 & 1.6\\\\\n",
       "\\end{tabular}\n"
      ],
      "text/markdown": [
       "\n",
       "A matrix: 4 × 4 of type dbl\n",
       "\n",
       "| 0.1 | 0.5 | 0.9 | 1.3 |\n",
       "| 0.2 | 0.6 | 1.0 | 1.4 |\n",
       "| 0.3 | 0.7 | 1.1 | 1.5 |\n",
       "| 0.4 | 0.8 | 1.2 | 1.6 |\n",
       "\n"
      ],
      "text/plain": [
       "     [,1] [,2] [,3] [,4]\n",
       "[1,] 0.1  0.5  0.9  1.3 \n",
       "[2,] 0.2  0.6  1.0  1.4 \n",
       "[3,] 0.3  0.7  1.1  1.5 \n",
       "[4,] 0.4  0.8  1.2  1.6 "
      ]
     },
     "metadata": {},
     "output_type": "display_data"
    }
   ],
   "source": [
    "A <- matrix(c(.1,.2,.3,.4,.5,.6,.7,.8,.9,1,1.1,1.2,1.3,1.4,1.5,1.6),nrow=4,ncol=4)\n",
    "A"
   ]
  },
  {
   "cell_type": "markdown",
   "id": "787cf454",
   "metadata": {},
   "source": [
    "#### 1.Diagonal elements of a Matrix"
   ]
  },
  {
   "cell_type": "code",
   "execution_count": 46,
   "id": "866b8566",
   "metadata": {},
   "outputs": [
    {
     "data": {
      "text/html": [
       "<style>\n",
       ".list-inline {list-style: none; margin:0; padding: 0}\n",
       ".list-inline>li {display: inline-block}\n",
       ".list-inline>li:not(:last-child)::after {content: \"\\00b7\"; padding: 0 .5ex}\n",
       "</style>\n",
       "<ol class=list-inline><li>0.1</li><li>0.6</li><li>1.1</li><li>1.6</li></ol>\n"
      ],
      "text/latex": [
       "\\begin{enumerate*}\n",
       "\\item 0.1\n",
       "\\item 0.6\n",
       "\\item 1.1\n",
       "\\item 1.6\n",
       "\\end{enumerate*}\n"
      ],
      "text/markdown": [
       "1. 0.1\n",
       "2. 0.6\n",
       "3. 1.1\n",
       "4. 1.6\n",
       "\n",
       "\n"
      ],
      "text/plain": [
       "[1] 0.1 0.6 1.1 1.6"
      ]
     },
     "metadata": {},
     "output_type": "display_data"
    }
   ],
   "source": [
    "diag(x=A)"
   ]
  },
  {
   "cell_type": "markdown",
   "id": "39abf1b5",
   "metadata": {},
   "source": [
    "#### 2. Element of 3rd row and 2nd column"
   ]
  },
  {
   "cell_type": "code",
   "execution_count": 47,
   "id": "060774c3",
   "metadata": {},
   "outputs": [
    {
     "data": {
      "text/html": [
       "0.7"
      ],
      "text/latex": [
       "0.7"
      ],
      "text/markdown": [
       "0.7"
      ],
      "text/plain": [
       "[1] 0.7"
      ]
     },
     "metadata": {},
     "output_type": "display_data"
    }
   ],
   "source": [
    "A[3,2]"
   ]
  },
  {
   "cell_type": "markdown",
   "id": "4dad8c99",
   "metadata": {},
   "source": [
    "#### 3. Elements of 2nd column"
   ]
  },
  {
   "cell_type": "code",
   "execution_count": 48,
   "id": "7d64a164",
   "metadata": {},
   "outputs": [
    {
     "data": {
      "text/html": [
       "<style>\n",
       ".list-inline {list-style: none; margin:0; padding: 0}\n",
       ".list-inline>li {display: inline-block}\n",
       ".list-inline>li:not(:last-child)::after {content: \"\\00b7\"; padding: 0 .5ex}\n",
       "</style>\n",
       "<ol class=list-inline><li>0.5</li><li>0.6</li><li>0.7</li><li>0.8</li></ol>\n"
      ],
      "text/latex": [
       "\\begin{enumerate*}\n",
       "\\item 0.5\n",
       "\\item 0.6\n",
       "\\item 0.7\n",
       "\\item 0.8\n",
       "\\end{enumerate*}\n"
      ],
      "text/markdown": [
       "1. 0.5\n",
       "2. 0.6\n",
       "3. 0.7\n",
       "4. 0.8\n",
       "\n",
       "\n"
      ],
      "text/plain": [
       "[1] 0.5 0.6 0.7 0.8"
      ]
     },
     "metadata": {},
     "output_type": "display_data"
    }
   ],
   "source": [
    "#3)\n",
    "A[,2]"
   ]
  },
  {
   "cell_type": "markdown",
   "id": "1befbcd8",
   "metadata": {},
   "source": [
    "#### 4. Extracting 2nd and 3rd rows"
   ]
  },
  {
   "cell_type": "code",
   "execution_count": 49,
   "id": "99a18d74",
   "metadata": {},
   "outputs": [
    {
     "data": {
      "text/html": [
       "<table class=\"dataframe\">\n",
       "<caption>A matrix: 2 × 4 of type dbl</caption>\n",
       "<tbody>\n",
       "\t<tr><td>0.2</td><td>0.6</td><td>1.0</td><td>1.4</td></tr>\n",
       "\t<tr><td>0.3</td><td>0.7</td><td>1.1</td><td>1.5</td></tr>\n",
       "</tbody>\n",
       "</table>\n"
      ],
      "text/latex": [
       "A matrix: 2 × 4 of type dbl\n",
       "\\begin{tabular}{llll}\n",
       "\t 0.2 & 0.6 & 1.0 & 1.4\\\\\n",
       "\t 0.3 & 0.7 & 1.1 & 1.5\\\\\n",
       "\\end{tabular}\n"
      ],
      "text/markdown": [
       "\n",
       "A matrix: 2 × 4 of type dbl\n",
       "\n",
       "| 0.2 | 0.6 | 1.0 | 1.4 |\n",
       "| 0.3 | 0.7 | 1.1 | 1.5 |\n",
       "\n"
      ],
      "text/plain": [
       "     [,1] [,2] [,3] [,4]\n",
       "[1,] 0.2  0.6  1.0  1.4 \n",
       "[2,] 0.3  0.7  1.1  1.5 "
      ]
     },
     "metadata": {},
     "output_type": "display_data"
    }
   ],
   "source": [
    "A[2:3,]"
   ]
  },
  {
   "cell_type": "markdown",
   "id": "5d3faf62",
   "metadata": {},
   "source": [
    "#### 5. Extracting 4th and 2nd column"
   ]
  },
  {
   "cell_type": "code",
   "execution_count": 50,
   "id": "f8154c8d",
   "metadata": {},
   "outputs": [
    {
     "data": {
      "text/html": [
       "<table class=\"dataframe\">\n",
       "<caption>A matrix: 4 × 2 of type dbl</caption>\n",
       "<tbody>\n",
       "\t<tr><td>1.3</td><td>0.5</td></tr>\n",
       "\t<tr><td>1.4</td><td>0.6</td></tr>\n",
       "\t<tr><td>1.5</td><td>0.7</td></tr>\n",
       "\t<tr><td>1.6</td><td>0.8</td></tr>\n",
       "</tbody>\n",
       "</table>\n"
      ],
      "text/latex": [
       "A matrix: 4 × 2 of type dbl\n",
       "\\begin{tabular}{ll}\n",
       "\t 1.3 & 0.5\\\\\n",
       "\t 1.4 & 0.6\\\\\n",
       "\t 1.5 & 0.7\\\\\n",
       "\t 1.6 & 0.8\\\\\n",
       "\\end{tabular}\n"
      ],
      "text/markdown": [
       "\n",
       "A matrix: 4 × 2 of type dbl\n",
       "\n",
       "| 1.3 | 0.5 |\n",
       "| 1.4 | 0.6 |\n",
       "| 1.5 | 0.7 |\n",
       "| 1.6 | 0.8 |\n",
       "\n"
      ],
      "text/plain": [
       "     [,1] [,2]\n",
       "[1,] 1.3  0.5 \n",
       "[2,] 1.4  0.6 \n",
       "[3,] 1.5  0.7 \n",
       "[4,] 1.6  0.8 "
      ]
     },
     "metadata": {},
     "output_type": "display_data"
    }
   ],
   "source": [
    "A[,c(4,2)]"
   ]
  },
  {
   "cell_type": "markdown",
   "id": "e294d213",
   "metadata": {},
   "source": [
    "#### 6. Extracting (4,2) ,(4,3) , (3,2) and (3,3) values"
   ]
  },
  {
   "cell_type": "code",
   "execution_count": 51,
   "id": "71b1acba",
   "metadata": {},
   "outputs": [
    {
     "data": {
      "text/html": [
       "<table class=\"dataframe\">\n",
       "<caption>A matrix: 2 × 2 of type dbl</caption>\n",
       "<tbody>\n",
       "\t<tr><td>0.8</td><td>1.2</td></tr>\n",
       "\t<tr><td>0.7</td><td>1.1</td></tr>\n",
       "</tbody>\n",
       "</table>\n"
      ],
      "text/latex": [
       "A matrix: 2 × 2 of type dbl\n",
       "\\begin{tabular}{ll}\n",
       "\t 0.8 & 1.2\\\\\n",
       "\t 0.7 & 1.1\\\\\n",
       "\\end{tabular}\n"
      ],
      "text/markdown": [
       "\n",
       "A matrix: 2 × 2 of type dbl\n",
       "\n",
       "| 0.8 | 1.2 |\n",
       "| 0.7 | 1.1 |\n",
       "\n"
      ],
      "text/plain": [
       "     [,1] [,2]\n",
       "[1,] 0.8  1.2 \n",
       "[2,] 0.7  1.1 "
      ]
     },
     "metadata": {},
     "output_type": "display_data"
    }
   ],
   "source": [
    "A[c(4,3),2:3]"
   ]
  },
  {
   "cell_type": "markdown",
   "id": "379275e8",
   "metadata": {},
   "source": [
    "### Manipulating a Matrix"
   ]
  },
  {
   "cell_type": "code",
   "execution_count": 52,
   "id": "688268c0",
   "metadata": {},
   "outputs": [
    {
     "data": {
      "text/html": [
       "<table class=\"dataframe\">\n",
       "<caption>A matrix: 4 × 4 of type dbl</caption>\n",
       "<tbody>\n",
       "\t<tr><td>0.1</td><td>0.5</td><td>0.9</td><td>1.3</td></tr>\n",
       "\t<tr><td>0.2</td><td>0.6</td><td>1.0</td><td>1.4</td></tr>\n",
       "\t<tr><td>0.3</td><td>0.7</td><td>1.1</td><td>1.5</td></tr>\n",
       "\t<tr><td>0.4</td><td>0.8</td><td>1.2</td><td>1.6</td></tr>\n",
       "</tbody>\n",
       "</table>\n"
      ],
      "text/latex": [
       "A matrix: 4 × 4 of type dbl\n",
       "\\begin{tabular}{llll}\n",
       "\t 0.1 & 0.5 & 0.9 & 1.3\\\\\n",
       "\t 0.2 & 0.6 & 1.0 & 1.4\\\\\n",
       "\t 0.3 & 0.7 & 1.1 & 1.5\\\\\n",
       "\t 0.4 & 0.8 & 1.2 & 1.6\\\\\n",
       "\\end{tabular}\n"
      ],
      "text/markdown": [
       "\n",
       "A matrix: 4 × 4 of type dbl\n",
       "\n",
       "| 0.1 | 0.5 | 0.9 | 1.3 |\n",
       "| 0.2 | 0.6 | 1.0 | 1.4 |\n",
       "| 0.3 | 0.7 | 1.1 | 1.5 |\n",
       "| 0.4 | 0.8 | 1.2 | 1.6 |\n",
       "\n"
      ],
      "text/plain": [
       "     [,1] [,2] [,3] [,4]\n",
       "[1,] 0.1  0.5  0.9  1.3 \n",
       "[2,] 0.2  0.6  1.0  1.4 \n",
       "[3,] 0.3  0.7  1.1  1.5 \n",
       "[4,] 0.4  0.8  1.2  1.6 "
      ]
     },
     "metadata": {},
     "output_type": "display_data"
    }
   ],
   "source": [
    "A <- matrix(c(.1,.2,.3,.4,.5,.6,.7,.8,.9,1,1.1,1.2,1.3,1.4,1.5,1.6),nrow=4,ncol=4)\n",
    "A"
   ]
  },
  {
   "cell_type": "markdown",
   "id": "4861c9ed",
   "metadata": {},
   "source": [
    "#### Removing column 2 from the matrix"
   ]
  },
  {
   "cell_type": "code",
   "execution_count": 53,
   "id": "bbb11d94",
   "metadata": {},
   "outputs": [
    {
     "data": {
      "text/html": [
       "<table class=\"dataframe\">\n",
       "<caption>A matrix: 4 × 3 of type dbl</caption>\n",
       "<tbody>\n",
       "\t<tr><td>0.1</td><td>0.9</td><td>1.3</td></tr>\n",
       "\t<tr><td>0.2</td><td>1.0</td><td>1.4</td></tr>\n",
       "\t<tr><td>0.3</td><td>1.1</td><td>1.5</td></tr>\n",
       "\t<tr><td>0.4</td><td>1.2</td><td>1.6</td></tr>\n",
       "</tbody>\n",
       "</table>\n"
      ],
      "text/latex": [
       "A matrix: 4 × 3 of type dbl\n",
       "\\begin{tabular}{lll}\n",
       "\t 0.1 & 0.9 & 1.3\\\\\n",
       "\t 0.2 & 1.0 & 1.4\\\\\n",
       "\t 0.3 & 1.1 & 1.5\\\\\n",
       "\t 0.4 & 1.2 & 1.6\\\\\n",
       "\\end{tabular}\n"
      ],
      "text/markdown": [
       "\n",
       "A matrix: 4 × 3 of type dbl\n",
       "\n",
       "| 0.1 | 0.9 | 1.3 |\n",
       "| 0.2 | 1.0 | 1.4 |\n",
       "| 0.3 | 1.1 | 1.5 |\n",
       "| 0.4 | 1.2 | 1.6 |\n",
       "\n"
      ],
      "text/plain": [
       "     [,1] [,2] [,3]\n",
       "[1,] 0.1  0.9  1.3 \n",
       "[2,] 0.2  1.0  1.4 \n",
       "[3,] 0.3  1.1  1.5 \n",
       "[4,] 0.4  1.2  1.6 "
      ]
     },
     "metadata": {},
     "output_type": "display_data"
    }
   ],
   "source": [
    "A[,-2]"
   ]
  },
  {
   "cell_type": "markdown",
   "id": "ab4700ec",
   "metadata": {},
   "source": [
    "#### Removing row 4 and selecting column 3,2 and 1 in this order"
   ]
  },
  {
   "cell_type": "code",
   "execution_count": 54,
   "id": "d5785a54",
   "metadata": {},
   "outputs": [
    {
     "data": {
      "text/html": [
       "<table class=\"dataframe\">\n",
       "<caption>A matrix: 3 × 3 of type dbl</caption>\n",
       "<tbody>\n",
       "\t<tr><td>0.9</td><td>0.5</td><td>0.1</td></tr>\n",
       "\t<tr><td>1.0</td><td>0.6</td><td>0.2</td></tr>\n",
       "\t<tr><td>1.1</td><td>0.7</td><td>0.3</td></tr>\n",
       "</tbody>\n",
       "</table>\n"
      ],
      "text/latex": [
       "A matrix: 3 × 3 of type dbl\n",
       "\\begin{tabular}{lll}\n",
       "\t 0.9 & 0.5 & 0.1\\\\\n",
       "\t 1.0 & 0.6 & 0.2\\\\\n",
       "\t 1.1 & 0.7 & 0.3\\\\\n",
       "\\end{tabular}\n"
      ],
      "text/markdown": [
       "\n",
       "A matrix: 3 × 3 of type dbl\n",
       "\n",
       "| 0.9 | 0.5 | 0.1 |\n",
       "| 1.0 | 0.6 | 0.2 |\n",
       "| 1.1 | 0.7 | 0.3 |\n",
       "\n"
      ],
      "text/plain": [
       "     [,1] [,2] [,3]\n",
       "[1,] 0.9  0.5  0.1 \n",
       "[2,] 1.0  0.6  0.2 \n",
       "[3,] 1.1  0.7  0.3 "
      ]
     },
     "metadata": {},
     "output_type": "display_data"
    }
   ],
   "source": [
    "A[-4,3:1]"
   ]
  },
  {
   "cell_type": "markdown",
   "id": "7ba73d97",
   "metadata": {},
   "source": [
    "#### Removing row 2 and column 3"
   ]
  },
  {
   "cell_type": "code",
   "execution_count": 55,
   "id": "0f5c511e",
   "metadata": {},
   "outputs": [
    {
     "data": {
      "text/html": [
       "<table class=\"dataframe\">\n",
       "<caption>A matrix: 3 × 3 of type dbl</caption>\n",
       "<tbody>\n",
       "\t<tr><td>0.1</td><td>0.5</td><td>1.3</td></tr>\n",
       "\t<tr><td>0.3</td><td>0.7</td><td>1.5</td></tr>\n",
       "\t<tr><td>0.4</td><td>0.8</td><td>1.6</td></tr>\n",
       "</tbody>\n",
       "</table>\n"
      ],
      "text/latex": [
       "A matrix: 3 × 3 of type dbl\n",
       "\\begin{tabular}{lll}\n",
       "\t 0.1 & 0.5 & 1.3\\\\\n",
       "\t 0.3 & 0.7 & 1.5\\\\\n",
       "\t 0.4 & 0.8 & 1.6\\\\\n",
       "\\end{tabular}\n"
      ],
      "text/markdown": [
       "\n",
       "A matrix: 3 × 3 of type dbl\n",
       "\n",
       "| 0.1 | 0.5 | 1.3 |\n",
       "| 0.3 | 0.7 | 1.5 |\n",
       "| 0.4 | 0.8 | 1.6 |\n",
       "\n"
      ],
      "text/plain": [
       "     [,1] [,2] [,3]\n",
       "[1,] 0.1  0.5  1.3 \n",
       "[2,] 0.3  0.7  1.5 \n",
       "[3,] 0.4  0.8  1.6 "
      ]
     },
     "metadata": {},
     "output_type": "display_data"
    }
   ],
   "source": [
    "A[-2,-3]"
   ]
  },
  {
   "cell_type": "markdown",
   "id": "3d486061",
   "metadata": {},
   "source": [
    "#### Removing row 2 and columns 3 and 4"
   ]
  },
  {
   "cell_type": "code",
   "execution_count": 56,
   "id": "63e819be",
   "metadata": {},
   "outputs": [
    {
     "data": {
      "text/html": [
       "<table class=\"dataframe\">\n",
       "<caption>A matrix: 3 × 2 of type dbl</caption>\n",
       "<tbody>\n",
       "\t<tr><td>0.1</td><td>0.5</td></tr>\n",
       "\t<tr><td>0.3</td><td>0.7</td></tr>\n",
       "\t<tr><td>0.4</td><td>0.8</td></tr>\n",
       "</tbody>\n",
       "</table>\n"
      ],
      "text/latex": [
       "A matrix: 3 × 2 of type dbl\n",
       "\\begin{tabular}{ll}\n",
       "\t 0.1 & 0.5\\\\\n",
       "\t 0.3 & 0.7\\\\\n",
       "\t 0.4 & 0.8\\\\\n",
       "\\end{tabular}\n"
      ],
      "text/markdown": [
       "\n",
       "A matrix: 3 × 2 of type dbl\n",
       "\n",
       "| 0.1 | 0.5 |\n",
       "| 0.3 | 0.7 |\n",
       "| 0.4 | 0.8 |\n",
       "\n"
      ],
      "text/plain": [
       "     [,1] [,2]\n",
       "[1,] 0.1  0.5 \n",
       "[2,] 0.3  0.7 \n",
       "[3,] 0.4  0.8 "
      ]
     },
     "metadata": {},
     "output_type": "display_data"
    }
   ],
   "source": [
    "A[-2,-c(3,4)]"
   ]
  },
  {
   "cell_type": "markdown",
   "id": "cb63ff26",
   "metadata": {},
   "source": [
    "#### Copying A into B"
   ]
  },
  {
   "cell_type": "code",
   "execution_count": 57,
   "id": "f79f778a",
   "metadata": {},
   "outputs": [
    {
     "data": {
      "text/html": [
       "<table class=\"dataframe\">\n",
       "<caption>A matrix: 4 × 4 of type dbl</caption>\n",
       "<tbody>\n",
       "\t<tr><td>0.1</td><td>0.5</td><td>0.9</td><td>1.3</td></tr>\n",
       "\t<tr><td>0.2</td><td>0.6</td><td>1.0</td><td>1.4</td></tr>\n",
       "\t<tr><td>0.3</td><td>0.7</td><td>1.1</td><td>1.5</td></tr>\n",
       "\t<tr><td>0.4</td><td>0.8</td><td>1.2</td><td>1.6</td></tr>\n",
       "</tbody>\n",
       "</table>\n"
      ],
      "text/latex": [
       "A matrix: 4 × 4 of type dbl\n",
       "\\begin{tabular}{llll}\n",
       "\t 0.1 & 0.5 & 0.9 & 1.3\\\\\n",
       "\t 0.2 & 0.6 & 1.0 & 1.4\\\\\n",
       "\t 0.3 & 0.7 & 1.1 & 1.5\\\\\n",
       "\t 0.4 & 0.8 & 1.2 & 1.6\\\\\n",
       "\\end{tabular}\n"
      ],
      "text/markdown": [
       "\n",
       "A matrix: 4 × 4 of type dbl\n",
       "\n",
       "| 0.1 | 0.5 | 0.9 | 1.3 |\n",
       "| 0.2 | 0.6 | 1.0 | 1.4 |\n",
       "| 0.3 | 0.7 | 1.1 | 1.5 |\n",
       "| 0.4 | 0.8 | 1.2 | 1.6 |\n",
       "\n"
      ],
      "text/plain": [
       "     [,1] [,2] [,3] [,4]\n",
       "[1,] 0.1  0.5  0.9  1.3 \n",
       "[2,] 0.2  0.6  1.0  1.4 \n",
       "[3,] 0.3  0.7  1.1  1.5 \n",
       "[4,] 0.4  0.8  1.2  1.6 "
      ]
     },
     "metadata": {},
     "output_type": "display_data"
    }
   ],
   "source": [
    "B<-A\n",
    "B"
   ]
  },
  {
   "cell_type": "markdown",
   "id": "535a659d",
   "metadata": {},
   "source": [
    "#### Replacing 3rd row of B  with integers 1,2,3 and 4    "
   ]
  },
  {
   "cell_type": "code",
   "execution_count": 58,
   "id": "7df12811",
   "metadata": {},
   "outputs": [
    {
     "data": {
      "text/html": [
       "<table class=\"dataframe\">\n",
       "<caption>A matrix: 4 × 4 of type dbl</caption>\n",
       "<tbody>\n",
       "\t<tr><td>0.1</td><td>0.5</td><td>0.9</td><td>1.3</td></tr>\n",
       "\t<tr><td>0.2</td><td>0.6</td><td>1.0</td><td>1.4</td></tr>\n",
       "\t<tr><td>1.0</td><td>2.0</td><td>3.0</td><td>4.0</td></tr>\n",
       "\t<tr><td>0.4</td><td>0.8</td><td>1.2</td><td>1.6</td></tr>\n",
       "</tbody>\n",
       "</table>\n"
      ],
      "text/latex": [
       "A matrix: 4 × 4 of type dbl\n",
       "\\begin{tabular}{llll}\n",
       "\t 0.1 & 0.5 & 0.9 & 1.3\\\\\n",
       "\t 0.2 & 0.6 & 1.0 & 1.4\\\\\n",
       "\t 1.0 & 2.0 & 3.0 & 4.0\\\\\n",
       "\t 0.4 & 0.8 & 1.2 & 1.6\\\\\n",
       "\\end{tabular}\n"
      ],
      "text/markdown": [
       "\n",
       "A matrix: 4 × 4 of type dbl\n",
       "\n",
       "| 0.1 | 0.5 | 0.9 | 1.3 |\n",
       "| 0.2 | 0.6 | 1.0 | 1.4 |\n",
       "| 1.0 | 2.0 | 3.0 | 4.0 |\n",
       "| 0.4 | 0.8 | 1.2 | 1.6 |\n",
       "\n"
      ],
      "text/plain": [
       "     [,1] [,2] [,3] [,4]\n",
       "[1,] 0.1  0.5  0.9  1.3 \n",
       "[2,] 0.2  0.6  1.0  1.4 \n",
       "[3,] 1.0  2.0  3.0  4.0 \n",
       "[4,] 0.4  0.8  1.2  1.6 "
      ]
     },
     "metadata": {},
     "output_type": "display_data"
    }
   ],
   "source": [
    "B[3,]<- 1:4\n",
    "B"
   ]
  },
  {
   "cell_type": "markdown",
   "id": "5ef9abae",
   "metadata": {},
   "source": [
    "#### Replacing elements in (row 3,column 3) and (row 4,column 3) with value 100\n"
   ]
  },
  {
   "cell_type": "code",
   "execution_count": 25,
   "id": "24eca0c2",
   "metadata": {},
   "outputs": [
    {
     "data": {
      "text/html": [
       "<table class=\"dataframe\">\n",
       "<caption>A matrix: 4 × 4 of type dbl</caption>\n",
       "<tbody>\n",
       "\t<tr><td>0.1</td><td>0.5</td><td>  0.9</td><td>1.3</td></tr>\n",
       "\t<tr><td>0.2</td><td>0.6</td><td>  1.0</td><td>1.4</td></tr>\n",
       "\t<tr><td>1.0</td><td>2.0</td><td>100.0</td><td>4.0</td></tr>\n",
       "\t<tr><td>0.4</td><td>0.8</td><td>100.0</td><td>1.6</td></tr>\n",
       "</tbody>\n",
       "</table>\n"
      ],
      "text/latex": [
       "A matrix: 4 × 4 of type dbl\n",
       "\\begin{tabular}{llll}\n",
       "\t 0.1 & 0.5 &   0.9 & 1.3\\\\\n",
       "\t 0.2 & 0.6 &   1.0 & 1.4\\\\\n",
       "\t 1.0 & 2.0 & 100.0 & 4.0\\\\\n",
       "\t 0.4 & 0.8 & 100.0 & 1.6\\\\\n",
       "\\end{tabular}\n"
      ],
      "text/markdown": [
       "\n",
       "A matrix: 4 × 4 of type dbl\n",
       "\n",
       "| 0.1 | 0.5 |   0.9 | 1.3 |\n",
       "| 0.2 | 0.6 |   1.0 | 1.4 |\n",
       "| 1.0 | 2.0 | 100.0 | 4.0 |\n",
       "| 0.4 | 0.8 | 100.0 | 1.6 |\n",
       "\n"
      ],
      "text/plain": [
       "     [,1] [,2] [,3]  [,4]\n",
       "[1,] 0.1  0.5    0.9 1.3 \n",
       "[2,] 0.2  0.6    1.0 1.4 \n",
       "[3,] 1.0  2.0  100.0 4.0 \n",
       "[4,] 0.4  0.8  100.0 1.6 "
      ]
     },
     "metadata": {},
     "output_type": "display_data"
    }
   ],
   "source": [
    "B[c(3,4),3]<-100\n",
    "B"
   ]
  },
  {
   "cell_type": "markdown",
   "id": "23f5f17f",
   "metadata": {},
   "source": [
    "#### Replacing a Matrix's row with its column"
   ]
  },
  {
   "cell_type": "markdown",
   "id": "5a45d133",
   "metadata": {},
   "source": [
    "##### Before changing"
   ]
  },
  {
   "cell_type": "code",
   "execution_count": 59,
   "id": "21b4a0a8",
   "metadata": {},
   "outputs": [
    {
     "data": {
      "text/html": [
       "<table class=\"dataframe\">\n",
       "<caption>A matrix: 4 × 4 of type dbl</caption>\n",
       "<tbody>\n",
       "\t<tr><td>0.1</td><td>0.5</td><td>0.9</td><td>1.3</td></tr>\n",
       "\t<tr><td>0.2</td><td>0.6</td><td>1.0</td><td>1.4</td></tr>\n",
       "\t<tr><td>1.0</td><td>2.0</td><td>3.0</td><td>4.0</td></tr>\n",
       "\t<tr><td>0.4</td><td>0.8</td><td>1.2</td><td>1.6</td></tr>\n",
       "</tbody>\n",
       "</table>\n"
      ],
      "text/latex": [
       "A matrix: 4 × 4 of type dbl\n",
       "\\begin{tabular}{llll}\n",
       "\t 0.1 & 0.5 & 0.9 & 1.3\\\\\n",
       "\t 0.2 & 0.6 & 1.0 & 1.4\\\\\n",
       "\t 1.0 & 2.0 & 3.0 & 4.0\\\\\n",
       "\t 0.4 & 0.8 & 1.2 & 1.6\\\\\n",
       "\\end{tabular}\n"
      ],
      "text/markdown": [
       "\n",
       "A matrix: 4 × 4 of type dbl\n",
       "\n",
       "| 0.1 | 0.5 | 0.9 | 1.3 |\n",
       "| 0.2 | 0.6 | 1.0 | 1.4 |\n",
       "| 1.0 | 2.0 | 3.0 | 4.0 |\n",
       "| 0.4 | 0.8 | 1.2 | 1.6 |\n",
       "\n"
      ],
      "text/plain": [
       "     [,1] [,2] [,3] [,4]\n",
       "[1,] 0.1  0.5  0.9  1.3 \n",
       "[2,] 0.2  0.6  1.0  1.4 \n",
       "[3,] 1.0  2.0  3.0  4.0 \n",
       "[4,] 0.4  0.8  1.2  1.6 "
      ]
     },
     "metadata": {},
     "output_type": "display_data"
    }
   ],
   "source": [
    "B"
   ]
  },
  {
   "cell_type": "markdown",
   "id": "e404e10d",
   "metadata": {},
   "source": [
    "##### After changing"
   ]
  },
  {
   "cell_type": "code",
   "execution_count": 60,
   "id": "92275035",
   "metadata": {},
   "outputs": [
    {
     "data": {
      "text/html": [
       "<table class=\"dataframe\">\n",
       "<caption>A matrix: 4 × 4 of type dbl</caption>\n",
       "<tbody>\n",
       "\t<tr><td>0.1</td><td>0.5</td><td>0.9</td><td>1.3</td></tr>\n",
       "\t<tr><td>0.2</td><td>0.6</td><td>1.0</td><td>1.4</td></tr>\n",
       "\t<tr><td>0.3</td><td>0.7</td><td>1.1</td><td>1.5</td></tr>\n",
       "\t<tr><td>1.3</td><td>1.4</td><td>1.5</td><td>1.6</td></tr>\n",
       "</tbody>\n",
       "</table>\n"
      ],
      "text/latex": [
       "A matrix: 4 × 4 of type dbl\n",
       "\\begin{tabular}{llll}\n",
       "\t 0.1 & 0.5 & 0.9 & 1.3\\\\\n",
       "\t 0.2 & 0.6 & 1.0 & 1.4\\\\\n",
       "\t 0.3 & 0.7 & 1.1 & 1.5\\\\\n",
       "\t 1.3 & 1.4 & 1.5 & 1.6\\\\\n",
       "\\end{tabular}\n"
      ],
      "text/markdown": [
       "\n",
       "A matrix: 4 × 4 of type dbl\n",
       "\n",
       "| 0.1 | 0.5 | 0.9 | 1.3 |\n",
       "| 0.2 | 0.6 | 1.0 | 1.4 |\n",
       "| 0.3 | 0.7 | 1.1 | 1.5 |\n",
       "| 1.3 | 1.4 | 1.5 | 1.6 |\n",
       "\n"
      ],
      "text/plain": [
       "     [,1] [,2] [,3] [,4]\n",
       "[1,] 0.1  0.5  0.9  1.3 \n",
       "[2,] 0.2  0.6  1.0  1.4 \n",
       "[3,] 0.3  0.7  1.1  1.5 \n",
       "[4,] 1.3  1.4  1.5  1.6 "
      ]
     },
     "metadata": {},
     "output_type": "display_data"
    }
   ],
   "source": [
    "B<-A\n",
    "B[4,]<-B[,4]\n",
    "B"
   ]
  },
  {
   "cell_type": "markdown",
   "id": "2c01179e",
   "metadata": {},
   "source": [
    "#### Changing matrix elements with vector"
   ]
  },
  {
   "cell_type": "code",
   "execution_count": 61,
   "id": "05a31757",
   "metadata": {},
   "outputs": [
    {
     "data": {
      "text/html": [
       "<table class=\"dataframe\">\n",
       "<caption>A matrix: 4 × 4 of type dbl</caption>\n",
       "<tbody>\n",
       "\t<tr><td>-600.0</td><td>-100.0</td><td>0.9</td><td>1.3</td></tr>\n",
       "\t<tr><td>   0.2</td><td>   0.6</td><td>1.0</td><td>1.4</td></tr>\n",
       "\t<tr><td>   0.3</td><td>   0.7</td><td>1.1</td><td>1.5</td></tr>\n",
       "\t<tr><td> 600.0</td><td> 100.0</td><td>1.5</td><td>1.6</td></tr>\n",
       "</tbody>\n",
       "</table>\n"
      ],
      "text/latex": [
       "A matrix: 4 × 4 of type dbl\n",
       "\\begin{tabular}{llll}\n",
       "\t -600.0 & -100.0 & 0.9 & 1.3\\\\\n",
       "\t    0.2 &    0.6 & 1.0 & 1.4\\\\\n",
       "\t    0.3 &    0.7 & 1.1 & 1.5\\\\\n",
       "\t  600.0 &  100.0 & 1.5 & 1.6\\\\\n",
       "\\end{tabular}\n"
      ],
      "text/markdown": [
       "\n",
       "A matrix: 4 × 4 of type dbl\n",
       "\n",
       "| -600.0 | -100.0 | 0.9 | 1.3 |\n",
       "|    0.2 |    0.6 | 1.0 | 1.4 |\n",
       "|    0.3 |    0.7 | 1.1 | 1.5 |\n",
       "|  600.0 |  100.0 | 1.5 | 1.6 |\n",
       "\n"
      ],
      "text/plain": [
       "     [,1]   [,2]   [,3] [,4]\n",
       "[1,] -600.0 -100.0 0.9  1.3 \n",
       "[2,]    0.2    0.6 1.0  1.4 \n",
       "[3,]    0.3    0.7 1.1  1.5 \n",
       "[4,]  600.0  100.0 1.5  1.6 "
      ]
     },
     "metadata": {},
     "output_type": "display_data"
    }
   ],
   "source": [
    "B[c(1,4),2:1]<-c(-100,100,-600,600)\n",
    "B"
   ]
  },
  {
   "cell_type": "code",
   "execution_count": 63,
   "id": "fa4f167c",
   "metadata": {},
   "outputs": [
    {
     "data": {
      "text/html": [
       "<table class=\"dataframe\">\n",
       "<caption>A matrix: 4 × 4 of type dbl</caption>\n",
       "<tbody>\n",
       "\t<tr><td>-20.0</td><td>-100.0</td><td>0.9</td><td>-20.0</td></tr>\n",
       "\t<tr><td>  0.2</td><td>   0.6</td><td>1.0</td><td>  1.4</td></tr>\n",
       "\t<tr><td>  0.3</td><td>   0.7</td><td>1.1</td><td>  1.5</td></tr>\n",
       "\t<tr><td> 20.0</td><td> 100.0</td><td>1.5</td><td> 20.0</td></tr>\n",
       "</tbody>\n",
       "</table>\n"
      ],
      "text/latex": [
       "A matrix: 4 × 4 of type dbl\n",
       "\\begin{tabular}{llll}\n",
       "\t -20.0 & -100.0 & 0.9 & -20.0\\\\\n",
       "\t   0.2 &    0.6 & 1.0 &   1.4\\\\\n",
       "\t   0.3 &    0.7 & 1.1 &   1.5\\\\\n",
       "\t  20.0 &  100.0 & 1.5 &  20.0\\\\\n",
       "\\end{tabular}\n"
      ],
      "text/markdown": [
       "\n",
       "A matrix: 4 × 4 of type dbl\n",
       "\n",
       "| -20.0 | -100.0 | 0.9 | -20.0 |\n",
       "|   0.2 |    0.6 | 1.0 |   1.4 |\n",
       "|   0.3 |    0.7 | 1.1 |   1.5 |\n",
       "|  20.0 |  100.0 | 1.5 |  20.0 |\n",
       "\n"
      ],
      "text/plain": [
       "     [,1]  [,2]   [,3] [,4] \n",
       "[1,] -20.0 -100.0 0.9  -20.0\n",
       "[2,]   0.2    0.6 1.0    1.4\n",
       "[3,]   0.3    0.7 1.1    1.5\n",
       "[4,]  20.0  100.0 1.5   20.0"
      ]
     },
     "metadata": {},
     "output_type": "display_data"
    }
   ],
   "source": [
    "B[c(1,4),c(1,4)]<-c(-20,20)\n",
    "B"
   ]
  },
  {
   "cell_type": "markdown",
   "id": "c16817da",
   "metadata": {},
   "source": [
    "#### Filling Diagonal elements of B with -99 "
   ]
  },
  {
   "cell_type": "code",
   "execution_count": 65,
   "id": "4060921a",
   "metadata": {},
   "outputs": [
    {
     "data": {
      "text/html": [
       "<table class=\"dataframe\">\n",
       "<caption>A matrix: 4 × 4 of type dbl</caption>\n",
       "<tbody>\n",
       "\t<tr><td>-99.0</td><td>-100.0</td><td>  0.9</td><td>-20.0</td></tr>\n",
       "\t<tr><td>  0.2</td><td> -99.0</td><td>  1.0</td><td>  1.4</td></tr>\n",
       "\t<tr><td>  0.3</td><td>   0.7</td><td>-99.0</td><td>  1.5</td></tr>\n",
       "\t<tr><td> 20.0</td><td> 100.0</td><td>  1.5</td><td>-99.0</td></tr>\n",
       "</tbody>\n",
       "</table>\n"
      ],
      "text/latex": [
       "A matrix: 4 × 4 of type dbl\n",
       "\\begin{tabular}{llll}\n",
       "\t -99.0 & -100.0 &   0.9 & -20.0\\\\\n",
       "\t   0.2 &  -99.0 &   1.0 &   1.4\\\\\n",
       "\t   0.3 &    0.7 & -99.0 &   1.5\\\\\n",
       "\t  20.0 &  100.0 &   1.5 & -99.0\\\\\n",
       "\\end{tabular}\n"
      ],
      "text/markdown": [
       "\n",
       "A matrix: 4 × 4 of type dbl\n",
       "\n",
       "| -99.0 | -100.0 |   0.9 | -20.0 |\n",
       "|   0.2 |  -99.0 |   1.0 |   1.4 |\n",
       "|   0.3 |    0.7 | -99.0 |   1.5 |\n",
       "|  20.0 |  100.0 |   1.5 | -99.0 |\n",
       "\n"
      ],
      "text/plain": [
       "     [,1]  [,2]   [,3]  [,4] \n",
       "[1,] -99.0 -100.0   0.9 -20.0\n",
       "[2,]   0.2  -99.0   1.0   1.4\n",
       "[3,]   0.3    0.7 -99.0   1.5\n",
       "[4,]  20.0  100.0   1.5 -99.0"
      ]
     },
     "metadata": {},
     "output_type": "display_data"
    }
   ],
   "source": [
    "diag(B)<-rep(x=-99,times=4)\n",
    "B"
   ]
  }
 ],
 "metadata": {
  "kernelspec": {
   "display_name": "R",
   "language": "R",
   "name": "ir"
  },
  "language_info": {
   "codemirror_mode": "r",
   "file_extension": ".r",
   "mimetype": "text/x-r-source",
   "name": "R",
   "pygments_lexer": "r",
   "version": "4.2.2"
  }
 },
 "nbformat": 4,
 "nbformat_minor": 5
}
