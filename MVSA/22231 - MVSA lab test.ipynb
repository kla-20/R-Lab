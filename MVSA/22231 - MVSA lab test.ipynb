{
 "cells": [
  {
   "cell_type": "markdown",
   "id": "661f2e39",
   "metadata": {},
   "source": [
    "#### QQ-plot for the given data"
   ]
  },
  {
   "cell_type": "markdown",
   "id": "d4e4210c",
   "metadata": {},
   "source": [
    "### Table used is 6"
   ]
  },
  {
   "cell_type": "code",
   "execution_count": 22,
   "id": "42b325ce",
   "metadata": {},
   "outputs": [],
   "source": [
    "data <- read.csv('6.csv') # reading a csv file"
   ]
  },
  {
   "cell_type": "code",
   "execution_count": 23,
   "id": "8e4ec08b",
   "metadata": {},
   "outputs": [
    {
     "data": {
      "text/html": [
       "<table class=\"dataframe\">\n",
       "<caption>A data.frame: 6 × 2</caption>\n",
       "<thead>\n",
       "\t<tr><th></th><th scope=col>X.Y..m..d</th><th scope=col>CPI</th></tr>\n",
       "\t<tr><th></th><th scope=col>&lt;chr&gt;</th><th scope=col>&lt;dbl&gt;</th></tr>\n",
       "</thead>\n",
       "<tbody>\n",
       "\t<tr><th scope=row>1</th><td>1913-01-31</td><td>9.8</td></tr>\n",
       "\t<tr><th scope=row>2</th><td>1913-02-28</td><td>9.8</td></tr>\n",
       "\t<tr><th scope=row>3</th><td>1913-03-31</td><td>9.8</td></tr>\n",
       "\t<tr><th scope=row>4</th><td>1913-04-30</td><td>9.8</td></tr>\n",
       "\t<tr><th scope=row>5</th><td>1913-05-31</td><td>9.7</td></tr>\n",
       "\t<tr><th scope=row>6</th><td>1913-06-30</td><td>9.8</td></tr>\n",
       "</tbody>\n",
       "</table>\n"
      ],
      "text/latex": [
       "A data.frame: 6 × 2\n",
       "\\begin{tabular}{r|ll}\n",
       "  & X.Y..m..d & CPI\\\\\n",
       "  & <chr> & <dbl>\\\\\n",
       "\\hline\n",
       "\t1 & 1913-01-31 & 9.8\\\\\n",
       "\t2 & 1913-02-28 & 9.8\\\\\n",
       "\t3 & 1913-03-31 & 9.8\\\\\n",
       "\t4 & 1913-04-30 & 9.8\\\\\n",
       "\t5 & 1913-05-31 & 9.7\\\\\n",
       "\t6 & 1913-06-30 & 9.8\\\\\n",
       "\\end{tabular}\n"
      ],
      "text/markdown": [
       "\n",
       "A data.frame: 6 × 2\n",
       "\n",
       "| <!--/--> | X.Y..m..d &lt;chr&gt; | CPI &lt;dbl&gt; |\n",
       "|---|---|---|\n",
       "| 1 | 1913-01-31 | 9.8 |\n",
       "| 2 | 1913-02-28 | 9.8 |\n",
       "| 3 | 1913-03-31 | 9.8 |\n",
       "| 4 | 1913-04-30 | 9.8 |\n",
       "| 5 | 1913-05-31 | 9.7 |\n",
       "| 6 | 1913-06-30 | 9.8 |\n",
       "\n"
      ],
      "text/plain": [
       "  X.Y..m..d  CPI\n",
       "1 1913-01-31 9.8\n",
       "2 1913-02-28 9.8\n",
       "3 1913-03-31 9.8\n",
       "4 1913-04-30 9.8\n",
       "5 1913-05-31 9.7\n",
       "6 1913-06-30 9.8"
      ]
     },
     "metadata": {},
     "output_type": "display_data"
    }
   ],
   "source": [
    "head(data) # printing the first 6 elements of the dataset"
   ]
  },
  {
   "cell_type": "code",
   "execution_count": 27,
   "id": "0583af38",
   "metadata": {},
   "outputs": [
    {
     "data": {
      "image/png": "[encoded data removed]",
      "text/plain": [
       "Plot with title \"Normal Q-Q Plot\""
      ]
     },
     "metadata": {
      "image/png": {
       "height": 420,
       "width": 420
      }
     },
     "output_type": "display_data"
    }
   ],
   "source": [
    "qqnorm(data$CPI, pch = 1, frame = TRUE,col='blue')\n",
    "qqline(data$CPI, col = \"darkgreen\", lwd = 2)"
   ]
  },
  {
   "cell_type": "markdown",
   "id": "0205e503",
   "metadata": {},
   "source": [
    "<h3><a>Inferences</a> </h3>\n",
    "<h4> QQ plot is known as Quantile-Quanitle plot </h4>\n",
    "<h4> From the above graph we can see that the data is not normal, since its not aligned to a straight line</h4>\n",
    "<h4> QQ-Plot is used to identify the normality in the data. If the plot is a straight line then we can say that the data is normal</h4>"
   ]
  }
 ],
 "metadata": {
  "kernelspec": {
   "display_name": "R",
   "language": "R",
   "name": "ir"
  },
  "language_info": {
   "codemirror_mode": "r",
   "file_extension": ".r",
   "mimetype": "text/x-r-source",
   "name": "R",
   "pygments_lexer": "r",
   "version": "4.2.2"
  }
 },
 "nbformat": 4,
 "nbformat_minor": 5
}
