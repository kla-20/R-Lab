{
 "cells": [
  {
   "cell_type": "markdown",
   "id": "c285369d",
   "metadata": {},
   "source": [
    "### Date: 17/03/2023\n",
    "### Regd No: 22231\n",
    "### Name: K Lalith Aditya\n",
    "### MDSC-202(P) - Multivaraite Statistical Analysis\n",
    "### R Lab 2"
   ]
  },
  {
   "cell_type": "markdown",
   "id": "a8ebf886",
   "metadata": {},
   "source": [
    "### Matrix Multiplication using operand"
   ]
  },
  {
   "cell_type": "code",
   "execution_count": 33,
   "id": "0997f1ee",
   "metadata": {},
   "outputs": [
    {
     "data": {
      "text/html": [
       "<table class=\"dataframe\">\n",
       "<caption>A matrix: 4 × 2 of type int</caption>\n",
       "<tbody>\n",
       "\t<tr><td>1</td><td>2</td></tr>\n",
       "\t<tr><td>3</td><td>4</td></tr>\n",
       "\t<tr><td>5</td><td>6</td></tr>\n",
       "\t<tr><td>7</td><td>8</td></tr>\n",
       "</tbody>\n",
       "</table>\n"
      ],
      "text/latex": [
       "A matrix: 4 × 2 of type int\n",
       "\\begin{tabular}{ll}\n",
       "\t 1 & 2\\\\\n",
       "\t 3 & 4\\\\\n",
       "\t 5 & 6\\\\\n",
       "\t 7 & 8\\\\\n",
       "\\end{tabular}\n"
      ],
      "text/markdown": [
       "\n",
       "A matrix: 4 × 2 of type int\n",
       "\n",
       "| 1 | 2 |\n",
       "| 3 | 4 |\n",
       "| 5 | 6 |\n",
       "| 7 | 8 |\n",
       "\n"
      ],
      "text/plain": [
       "     [,1] [,2]\n",
       "[1,] 1    2   \n",
       "[2,] 3    4   \n",
       "[3,] 5    6   \n",
       "[4,] 7    8   "
      ]
     },
     "metadata": {},
     "output_type": "display_data"
    }
   ],
   "source": [
    "x <- matrix(nrow=4, ncol=2, data=1:8,byrow=TRUE)\n",
    "x"
   ]
  },
  {
   "cell_type": "markdown",
   "id": "0ea3ad74",
   "metadata": {},
   "source": [
    "### Transpose of a Matrix with product to Normal Matrix"
   ]
  },
  {
   "cell_type": "code",
   "execution_count": 34,
   "id": "f09c7e85",
   "metadata": {
    "scrolled": true
   },
   "outputs": [
    {
     "data": {
      "text/html": [
       "<table class=\"dataframe\">\n",
       "<caption>A matrix: 2 × 2 of type dbl</caption>\n",
       "<tbody>\n",
       "\t<tr><td> 84</td><td>100</td></tr>\n",
       "\t<tr><td>100</td><td>120</td></tr>\n",
       "</tbody>\n",
       "</table>\n"
      ],
      "text/latex": [
       "A matrix: 2 × 2 of type dbl\n",
       "\\begin{tabular}{ll}\n",
       "\t  84 & 100\\\\\n",
       "\t 100 & 120\\\\\n",
       "\\end{tabular}\n"
      ],
      "text/markdown": [
       "\n",
       "A matrix: 2 × 2 of type dbl\n",
       "\n",
       "|  84 | 100 |\n",
       "| 100 | 120 |\n",
       "\n"
      ],
      "text/plain": [
       "     [,1] [,2]\n",
       "[1,]  84  100 \n",
       "[2,] 100  120 "
      ]
     },
     "metadata": {},
     "output_type": "display_data"
    }
   ],
   "source": [
    "xtx <- t(x) %*% x\n",
    "xtx"
   ]
  },
  {
   "cell_type": "code",
   "execution_count": 37,
   "id": "9d172643",
   "metadata": {},
   "outputs": [
    {
     "data": {
      "text/html": [
       "<table class=\"dataframe\">\n",
       "<caption>A matrix: 2 × 2 of type dbl</caption>\n",
       "<tbody>\n",
       "\t<tr><td> 84</td><td>100</td></tr>\n",
       "\t<tr><td>100</td><td>120</td></tr>\n",
       "</tbody>\n",
       "</table>\n"
      ],
      "text/latex": [
       "A matrix: 2 × 2 of type dbl\n",
       "\\begin{tabular}{ll}\n",
       "\t  84 & 100\\\\\n",
       "\t 100 & 120\\\\\n",
       "\\end{tabular}\n"
      ],
      "text/markdown": [
       "\n",
       "A matrix: 2 × 2 of type dbl\n",
       "\n",
       "|  84 | 100 |\n",
       "| 100 | 120 |\n",
       "\n"
      ],
      "text/plain": [
       "     [,1] [,2]\n",
       "[1,]  84  100 \n",
       "[2,] 100  120 "
      ]
     },
     "metadata": {},
     "output_type": "display_data"
    }
   ],
   "source": [
    "## crossproduct(Transpose(x)*x)\n",
    "xtx2 <- crossprod(x)\n",
    "xtx2"
   ]
  },
  {
   "cell_type": "markdown",
   "id": "724af237",
   "metadata": {},
   "source": [
    "### scalar multiplication to a matrix"
   ]
  },
  {
   "cell_type": "code",
   "execution_count": 41,
   "id": "85a3f04e",
   "metadata": {},
   "outputs": [
    {
     "data": {
      "text/html": [
       "<table class=\"dataframe\">\n",
       "<caption>A matrix: 4 × 2 of type dbl</caption>\n",
       "<tbody>\n",
       "\t<tr><td>0.2356</td><td>0.4712</td></tr>\n",
       "\t<tr><td>0.7068</td><td>0.9424</td></tr>\n",
       "\t<tr><td>1.1780</td><td>1.4136</td></tr>\n",
       "\t<tr><td>1.6492</td><td>1.8848</td></tr>\n",
       "</tbody>\n",
       "</table>\n"
      ],
      "text/latex": [
       "A matrix: 4 × 2 of type dbl\n",
       "\\begin{tabular}{ll}\n",
       "\t 0.2356 & 0.4712\\\\\n",
       "\t 0.7068 & 0.9424\\\\\n",
       "\t 1.1780 & 1.4136\\\\\n",
       "\t 1.6492 & 1.8848\\\\\n",
       "\\end{tabular}\n"
      ],
      "text/markdown": [
       "\n",
       "A matrix: 4 × 2 of type dbl\n",
       "\n",
       "| 0.2356 | 0.4712 |\n",
       "| 0.7068 | 0.9424 |\n",
       "| 1.1780 | 1.4136 |\n",
       "| 1.6492 | 1.8848 |\n",
       "\n"
      ],
      "text/plain": [
       "     [,1]   [,2]  \n",
       "[1,] 0.2356 0.4712\n",
       "[2,] 0.7068 0.9424\n",
       "[3,] 1.1780 1.4136\n",
       "[4,] 1.6492 1.8848"
      ]
     },
     "metadata": {},
     "output_type": "display_data"
    }
   ],
   "source": [
    ".2356*x"
   ]
  },
  {
   "cell_type": "markdown",
   "id": "aedf9990",
   "metadata": {},
   "source": [
    "### Some Linear Combinations"
   ]
  },
  {
   "cell_type": "code",
   "execution_count": 42,
   "id": "07bb4c71",
   "metadata": {},
   "outputs": [
    {
     "data": {
      "text/html": [
       "<table class=\"dataframe\">\n",
       "<caption>A matrix: 4 × 2 of type dbl</caption>\n",
       "<tbody>\n",
       "\t<tr><td> 2.2</td><td> 4.4</td></tr>\n",
       "\t<tr><td> 6.6</td><td> 8.8</td></tr>\n",
       "\t<tr><td>11.0</td><td>13.2</td></tr>\n",
       "\t<tr><td>15.4</td><td>17.6</td></tr>\n",
       "</tbody>\n",
       "</table>\n"
      ],
      "text/latex": [
       "A matrix: 4 × 2 of type dbl\n",
       "\\begin{tabular}{ll}\n",
       "\t  2.2 &  4.4\\\\\n",
       "\t  6.6 &  8.8\\\\\n",
       "\t 11.0 & 13.2\\\\\n",
       "\t 15.4 & 17.6\\\\\n",
       "\\end{tabular}\n"
      ],
      "text/markdown": [
       "\n",
       "A matrix: 4 × 2 of type dbl\n",
       "\n",
       "|  2.2 |  4.4 |\n",
       "|  6.6 |  8.8 |\n",
       "| 11.0 | 13.2 |\n",
       "| 15.4 | 17.6 |\n",
       "\n"
      ],
      "text/plain": [
       "     [,1] [,2]\n",
       "[1,]  2.2  4.4\n",
       "[2,]  6.6  8.8\n",
       "[3,] 11.0 13.2\n",
       "[4,] 15.4 17.6"
      ]
     },
     "metadata": {},
     "output_type": "display_data"
    }
   ],
   "source": [
    "# 1.\n",
    "\n",
    "3.4*x - 1.2*x"
   ]
  },
  {
   "cell_type": "code",
   "execution_count": 43,
   "id": "7647fd84",
   "metadata": {},
   "outputs": [
    {
     "data": {
      "text/html": [
       "<table class=\"dataframe\">\n",
       "<caption>A matrix: 4 × 2 of type dbl</caption>\n",
       "<tbody>\n",
       "\t<tr><td> 9</td><td>18</td></tr>\n",
       "\t<tr><td>27</td><td>36</td></tr>\n",
       "\t<tr><td>45</td><td>54</td></tr>\n",
       "\t<tr><td>63</td><td>72</td></tr>\n",
       "</tbody>\n",
       "</table>\n"
      ],
      "text/latex": [
       "A matrix: 4 × 2 of type dbl\n",
       "\\begin{tabular}{ll}\n",
       "\t  9 & 18\\\\\n",
       "\t 27 & 36\\\\\n",
       "\t 45 & 54\\\\\n",
       "\t 63 & 72\\\\\n",
       "\\end{tabular}\n"
      ],
      "text/markdown": [
       "\n",
       "A matrix: 4 × 2 of type dbl\n",
       "\n",
       "|  9 | 18 |\n",
       "| 27 | 36 |\n",
       "| 45 | 54 |\n",
       "| 63 | 72 |\n",
       "\n"
      ],
      "text/plain": [
       "     [,1] [,2]\n",
       "[1,]  9   18  \n",
       "[2,] 27   36  \n",
       "[3,] 45   54  \n",
       "[4,] 63   72  "
      ]
     },
     "metadata": {},
     "output_type": "display_data"
    }
   ],
   "source": [
    "# 2.\n",
    "5*x + 4*x"
   ]
  },
  {
   "cell_type": "code",
   "execution_count": 44,
   "id": "1c38038e",
   "metadata": {},
   "outputs": [
    {
     "data": {
      "text/html": [
       "<table class=\"dataframe\">\n",
       "<caption>A matrix: 4 × 2 of type dbl</caption>\n",
       "<tbody>\n",
       "\t<tr><td> 22</td><td> 44</td></tr>\n",
       "\t<tr><td> 66</td><td> 88</td></tr>\n",
       "\t<tr><td>110</td><td>132</td></tr>\n",
       "\t<tr><td>154</td><td>176</td></tr>\n",
       "</tbody>\n",
       "</table>\n"
      ],
      "text/latex": [
       "A matrix: 4 × 2 of type dbl\n",
       "\\begin{tabular}{ll}\n",
       "\t  22 &  44\\\\\n",
       "\t  66 &  88\\\\\n",
       "\t 110 & 132\\\\\n",
       "\t 154 & 176\\\\\n",
       "\\end{tabular}\n"
      ],
      "text/markdown": [
       "\n",
       "A matrix: 4 × 2 of type dbl\n",
       "\n",
       "|  22 |  44 |\n",
       "|  66 |  88 |\n",
       "| 110 | 132 |\n",
       "| 154 | 176 |\n",
       "\n"
      ],
      "text/plain": [
       "     [,1] [,2]\n",
       "[1,]  22   44 \n",
       "[2,]  66   88 \n",
       "[3,] 110  132 \n",
       "[4,] 154  176 "
      ]
     },
     "metadata": {},
     "output_type": "display_data"
    }
   ],
   "source": [
    "# 3.\n",
    "2*x + 21*x + 3*x - 4*x"
   ]
  },
  {
   "cell_type": "markdown",
   "id": "e73f5ccf",
   "metadata": {},
   "source": [
    "### Using solve() to find inverse of a matrix"
   ]
  },
  {
   "cell_type": "code",
   "execution_count": 53,
   "id": "89da1111",
   "metadata": {},
   "outputs": [],
   "source": [
    "y <- matrix(nrow=3 , ncol=3,byrow=T,data=c(1,2,3,3,4,5,4,5,1))"
   ]
  },
  {
   "cell_type": "code",
   "execution_count": 54,
   "id": "563d4a5e",
   "metadata": {},
   "outputs": [
    {
     "data": {
      "text/html": [
       "<table class=\"dataframe\">\n",
       "<caption>A matrix: 3 × 3 of type dbl</caption>\n",
       "<tbody>\n",
       "\t<tr><td>1</td><td>2</td><td>3</td></tr>\n",
       "\t<tr><td>3</td><td>4</td><td>5</td></tr>\n",
       "\t<tr><td>4</td><td>5</td><td>1</td></tr>\n",
       "</tbody>\n",
       "</table>\n"
      ],
      "text/latex": [
       "A matrix: 3 × 3 of type dbl\n",
       "\\begin{tabular}{lll}\n",
       "\t 1 & 2 & 3\\\\\n",
       "\t 3 & 4 & 5\\\\\n",
       "\t 4 & 5 & 1\\\\\n",
       "\\end{tabular}\n"
      ],
      "text/markdown": [
       "\n",
       "A matrix: 3 × 3 of type dbl\n",
       "\n",
       "| 1 | 2 | 3 |\n",
       "| 3 | 4 | 5 |\n",
       "| 4 | 5 | 1 |\n",
       "\n"
      ],
      "text/plain": [
       "     [,1] [,2] [,3]\n",
       "[1,] 1    2    3   \n",
       "[2,] 3    4    5   \n",
       "[3,] 4    5    1   "
      ]
     },
     "metadata": {},
     "output_type": "display_data"
    }
   ],
   "source": [
    "y"
   ]
  },
  {
   "cell_type": "code",
   "execution_count": 55,
   "id": "7668ba2e",
   "metadata": {},
   "outputs": [
    {
     "data": {
      "text/html": [
       "<table class=\"dataframe\">\n",
       "<caption>A matrix: 3 × 3 of type dbl</caption>\n",
       "<tbody>\n",
       "\t<tr><td>-2.1</td><td> 1.3</td><td>-0.2</td></tr>\n",
       "\t<tr><td> 1.7</td><td>-1.1</td><td> 0.4</td></tr>\n",
       "\t<tr><td>-0.1</td><td> 0.3</td><td>-0.2</td></tr>\n",
       "</tbody>\n",
       "</table>\n"
      ],
      "text/latex": [
       "A matrix: 3 × 3 of type dbl\n",
       "\\begin{tabular}{lll}\n",
       "\t -2.1 &  1.3 & -0.2\\\\\n",
       "\t  1.7 & -1.1 &  0.4\\\\\n",
       "\t -0.1 &  0.3 & -0.2\\\\\n",
       "\\end{tabular}\n"
      ],
      "text/markdown": [
       "\n",
       "A matrix: 3 × 3 of type dbl\n",
       "\n",
       "| -2.1 |  1.3 | -0.2 |\n",
       "|  1.7 | -1.1 |  0.4 |\n",
       "| -0.1 |  0.3 | -0.2 |\n",
       "\n"
      ],
      "text/plain": [
       "     [,1] [,2] [,3]\n",
       "[1,] -2.1  1.3 -0.2\n",
       "[2,]  1.7 -1.1  0.4\n",
       "[3,] -0.1  0.3 -0.2"
      ]
     },
     "metadata": {},
     "output_type": "display_data"
    }
   ],
   "source": [
    "solve(y)"
   ]
  },
  {
   "cell_type": "markdown",
   "id": "c21fc141",
   "metadata": {},
   "source": [
    "### Getting identity matrix back "
   ]
  },
  {
   "cell_type": "code",
   "execution_count": 56,
   "id": "f2214689",
   "metadata": {},
   "outputs": [
    {
     "data": {
      "text/html": [
       "<table class=\"dataframe\">\n",
       "<caption>A matrix: 3 × 3 of type dbl</caption>\n",
       "<tbody>\n",
       "\t<tr><td> 1.000000e+00</td><td>0.000000e+00</td><td>-1.110223e-16</td></tr>\n",
       "\t<tr><td>-8.326673e-16</td><td>1.000000e+00</td><td> 1.110223e-16</td></tr>\n",
       "\t<tr><td>-3.469447e-16</td><td>1.665335e-16</td><td> 1.000000e+00</td></tr>\n",
       "</tbody>\n",
       "</table>\n"
      ],
      "text/latex": [
       "A matrix: 3 × 3 of type dbl\n",
       "\\begin{tabular}{lll}\n",
       "\t  1.000000e+00 & 0.000000e+00 & -1.110223e-16\\\\\n",
       "\t -8.326673e-16 & 1.000000e+00 &  1.110223e-16\\\\\n",
       "\t -3.469447e-16 & 1.665335e-16 &  1.000000e+00\\\\\n",
       "\\end{tabular}\n"
      ],
      "text/markdown": [
       "\n",
       "A matrix: 3 × 3 of type dbl\n",
       "\n",
       "|  1.000000e+00 | 0.000000e+00 | -1.110223e-16 |\n",
       "| -8.326673e-16 | 1.000000e+00 |  1.110223e-16 |\n",
       "| -3.469447e-16 | 1.665335e-16 |  1.000000e+00 |\n",
       "\n"
      ],
      "text/plain": [
       "     [,1]          [,2]         [,3]         \n",
       "[1,]  1.000000e+00 0.000000e+00 -1.110223e-16\n",
       "[2,] -8.326673e-16 1.000000e+00  1.110223e-16\n",
       "[3,] -3.469447e-16 1.665335e-16  1.000000e+00"
      ]
     },
     "metadata": {},
     "output_type": "display_data"
    }
   ],
   "source": [
    "y %*% solve(y)"
   ]
  },
  {
   "cell_type": "markdown",
   "id": "14544b16",
   "metadata": {},
   "source": [
    "### The non diagonal entries are close to 0(very small)"
   ]
  },
  {
   "cell_type": "markdown",
   "id": "bb3fd135",
   "metadata": {},
   "source": [
    "## Finding Eigen values and Eigen Vectors of a Matrix!"
   ]
  },
  {
   "cell_type": "code",
   "execution_count": 57,
   "id": "6261084c",
   "metadata": {},
   "outputs": [
    {
     "data": {
      "text/plain": [
       "eigen() decomposition\n",
       "$values\n",
       "[1]  9.6360956 -3.3238808 -0.3122148\n",
       "\n",
       "$vectors\n",
       "           [,1]       [,2]        [,3]\n",
       "[1,] -0.3707376 -0.3861027 -0.76622760\n",
       "[2,] -0.7189333 -0.4069940  0.63636323\n",
       "[3,] -0.5879528  0.8278167 -0.08909043\n"
      ]
     },
     "metadata": {},
     "output_type": "display_data"
    }
   ],
   "source": [
    "eigen(y)"
   ]
  }
 ],
 "metadata": {
  "kernelspec": {
   "display_name": "R",
   "language": "R",
   "name": "ir"
  },
  "language_info": {
   "codemirror_mode": "r",
   "file_extension": ".r",
   "mimetype": "text/x-r-source",
   "name": "R",
   "pygments_lexer": "r",
   "version": "4.2.2"
  }
 },
 "nbformat": 4,
 "nbformat_minor": 5
}
